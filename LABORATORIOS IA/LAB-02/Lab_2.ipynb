{
  "nbformat": 4,
  "nbformat_minor": 0,
  "metadata": {
    "colab": {
      "provenance": []
    },
    "kernelspec": {
      "name": "python3",
      "display_name": "Python 3"
    },
    "language_info": {
      "name": "python"
    }
  },
  "cells": [
    {
      "cell_type": "code",
      "execution_count": 5,
      "metadata": {
        "id": "qUxgZvq33-ID"
      },
      "outputs": [],
      "source": [
        "# utilizado para manejos de directorios y rutas\n",
        "import os\n",
        "\n",
        "# Computacion vectorial y cientifica para python\n",
        "import numpy as np\n",
        "\n",
        "# Librerias para graficación (trazado de gráficos)\n",
        "from matplotlib import pyplot\n",
        "from mpl_toolkits.mplot3d import Axes3D  # Necesario para graficar superficies 3D\n",
        "\n",
        "# llama a matplotlib a embeber graficas dentro de los cuadernillos\n",
        "%matplotlib inline"
      ]
    },
    {
      "cell_type": "code",
      "source": [
        "import pandas as pd\n",
        "from sklearn.preprocessing import LabelEncoder\n",
        "from datetime import datetime"
      ],
      "metadata": {
        "id": "3zeLCpwjiQCT"
      },
      "execution_count": 6,
      "outputs": []
    },
    {
      "cell_type": "code",
      "source": [
        "#Carga de dataset\n",
        "data = pd.read_csv('/content/Shoe prices.csv')"
      ],
      "metadata": {
        "id": "V0ZXOA-6iUmV"
      },
      "execution_count": 7,
      "outputs": []
    },
    {
      "cell_type": "code",
      "source": [
        "print(data)"
      ],
      "metadata": {
        "colab": {
          "base_uri": "https://localhost:8080/"
        },
        "id": "h325dVhXicrs",
        "outputId": "1825a880-4907-4342-cb32-82de78f61a1f"
      },
      "execution_count": 8,
      "outputs": [
        {
          "output_type": "stream",
          "name": "stdout",
          "text": [
            "            Brand              Model        Type Gender    Size      Color  \\\n",
            "0            Nike       Air Jordan 1  Basketball    Men   US 10  Red/Black   \n",
            "1          Adidas     Ultra Boost 21     Running    Men  US 9.5      Black   \n",
            "2          Reebok    Classic Leather      Casual    Men   US 11      White   \n",
            "3        Converse       Chuck Taylor      Casual  Women    US 8       Navy   \n",
            "4            Puma       Future Rider   Lifestyle  Women  US 7.5       Pink   \n",
            "...           ...                ...         ...    ...     ...        ...   \n",
            "1001  New Balance  Fresh Foam 880v11     Running  Women   US 10       Grey   \n",
            "1002        Asics    Gel-Kayano Lite     Running    Men  US 9.5      Black   \n",
            "1003         Fila           Venom 94     Fashion  Women  US 7.5      White   \n",
            "1004     Skechers            Summits    Training    Men    US 8       Grey   \n",
            "1005         Nike         Air Max 97     Running  Women  US 7.5     Silver   \n",
            "\n",
            "       Material Price (USD)  \n",
            "0       Leather    $170.00   \n",
            "1     Primeknit    $180.00   \n",
            "2       Leather     $75.00   \n",
            "3        Canvas     $55.00   \n",
            "4          Mesh     $80.00   \n",
            "...         ...         ...  \n",
            "1001       Mesh    $130.00   \n",
            "1002       Mesh    $160.00   \n",
            "1003    Leather     $70.00   \n",
            "1004       Mesh     $55.00   \n",
            "1005    Leather    $170.00   \n",
            "\n",
            "[1006 rows x 8 columns]\n"
          ]
        }
      ]
    },
    {
      "cell_type": "code",
      "source": [
        "# Para ver que tipo de datos estan\n",
        "data.info()"
      ],
      "metadata": {
        "colab": {
          "base_uri": "https://localhost:8080/"
        },
        "id": "ZoYIJwRyifh-",
        "outputId": "6b3d4cb9-2da5-4b94-a29e-e413350644fb"
      },
      "execution_count": 9,
      "outputs": [
        {
          "output_type": "stream",
          "name": "stdout",
          "text": [
            "<class 'pandas.core.frame.DataFrame'>\n",
            "RangeIndex: 1006 entries, 0 to 1005\n",
            "Data columns (total 8 columns):\n",
            " #   Column       Non-Null Count  Dtype \n",
            "---  ------       --------------  ----- \n",
            " 0   Brand        1006 non-null   object\n",
            " 1   Model        1006 non-null   object\n",
            " 2   Type         1006 non-null   object\n",
            " 3   Gender       1006 non-null   object\n",
            " 4   Size         1006 non-null   object\n",
            " 5   Color        1006 non-null   object\n",
            " 6   Material     1006 non-null   object\n",
            " 7   Price (USD)  1006 non-null   object\n",
            "dtypes: object(8)\n",
            "memory usage: 63.0+ KB\n"
          ]
        }
      ]
    },
    {
      "cell_type": "code",
      "source": [
        "# Eliminar de columna de y el simnolo $\n",
        "columnas_eliminar = ['Price (USD)']\n",
        "simbolo = '$'\n",
        "\n",
        "for columna in columnas_eliminar:\n",
        "    data[columna] = data[columna].str.replace(simbolo, '', regex=False)"
      ],
      "metadata": {
        "id": "HcW3ITuoi4aw"
      },
      "execution_count": 10,
      "outputs": []
    },
    {
      "cell_type": "code",
      "source": [
        "print(data)"
      ],
      "metadata": {
        "colab": {
          "base_uri": "https://localhost:8080/"
        },
        "id": "CDcJv73OABpB",
        "outputId": "b007bf32-6b57-4efe-e5a7-0257613d510b"
      },
      "execution_count": 11,
      "outputs": [
        {
          "output_type": "stream",
          "name": "stdout",
          "text": [
            "            Brand              Model        Type Gender    Size      Color  \\\n",
            "0            Nike       Air Jordan 1  Basketball    Men   US 10  Red/Black   \n",
            "1          Adidas     Ultra Boost 21     Running    Men  US 9.5      Black   \n",
            "2          Reebok    Classic Leather      Casual    Men   US 11      White   \n",
            "3        Converse       Chuck Taylor      Casual  Women    US 8       Navy   \n",
            "4            Puma       Future Rider   Lifestyle  Women  US 7.5       Pink   \n",
            "...           ...                ...         ...    ...     ...        ...   \n",
            "1001  New Balance  Fresh Foam 880v11     Running  Women   US 10       Grey   \n",
            "1002        Asics    Gel-Kayano Lite     Running    Men  US 9.5      Black   \n",
            "1003         Fila           Venom 94     Fashion  Women  US 7.5      White   \n",
            "1004     Skechers            Summits    Training    Men    US 8       Grey   \n",
            "1005         Nike         Air Max 97     Running  Women  US 7.5     Silver   \n",
            "\n",
            "       Material Price (USD)  \n",
            "0       Leather     170.00   \n",
            "1     Primeknit     180.00   \n",
            "2       Leather      75.00   \n",
            "3        Canvas      55.00   \n",
            "4          Mesh      80.00   \n",
            "...         ...         ...  \n",
            "1001       Mesh     130.00   \n",
            "1002       Mesh     160.00   \n",
            "1003    Leather      70.00   \n",
            "1004       Mesh      55.00   \n",
            "1005    Leather     170.00   \n",
            "\n",
            "[1006 rows x 8 columns]\n"
          ]
        }
      ]
    },
    {
      "cell_type": "code",
      "source": [
        "data.info()"
      ],
      "metadata": {
        "colab": {
          "base_uri": "https://localhost:8080/"
        },
        "id": "MJR_ngQEAFSz",
        "outputId": "b2caddb6-b2fc-483b-b967-6e5977a96f57"
      },
      "execution_count": 12,
      "outputs": [
        {
          "output_type": "stream",
          "name": "stdout",
          "text": [
            "<class 'pandas.core.frame.DataFrame'>\n",
            "RangeIndex: 1006 entries, 0 to 1005\n",
            "Data columns (total 8 columns):\n",
            " #   Column       Non-Null Count  Dtype \n",
            "---  ------       --------------  ----- \n",
            " 0   Brand        1006 non-null   object\n",
            " 1   Model        1006 non-null   object\n",
            " 2   Type         1006 non-null   object\n",
            " 3   Gender       1006 non-null   object\n",
            " 4   Size         1006 non-null   object\n",
            " 5   Color        1006 non-null   object\n",
            " 6   Material     1006 non-null   object\n",
            " 7   Price (USD)  1006 non-null   object\n",
            "dtypes: object(8)\n",
            "memory usage: 63.0+ KB\n"
          ]
        }
      ]
    },
    {
      "cell_type": "code",
      "source": [
        "# Supongamos que 'data' es tu DataFrame\n",
        "columna_categorica = 'Price (USD)'\n",
        "columna_numerica = 'Price'\n",
        "\n",
        "# Crea una nueva columna numérica y copia los valores de la columna categórica\n",
        "data[columna_numerica] = pd.to_numeric(data[columna_categorica], errors='coerce')\n",
        "\n",
        "# Elimina la columna categórica original\n",
        "data.drop(columna_categorica, axis=1, inplace=True)"
      ],
      "metadata": {
        "id": "iFCu2N4YuhfQ"
      },
      "execution_count": 13,
      "outputs": []
    },
    {
      "cell_type": "code",
      "source": [
        "data.info()"
      ],
      "metadata": {
        "colab": {
          "base_uri": "https://localhost:8080/"
        },
        "id": "VpbiDOZmjHzw",
        "outputId": "2891c8ae-ac5a-4141-a79a-90f51c789762"
      },
      "execution_count": 14,
      "outputs": [
        {
          "output_type": "stream",
          "name": "stdout",
          "text": [
            "<class 'pandas.core.frame.DataFrame'>\n",
            "RangeIndex: 1006 entries, 0 to 1005\n",
            "Data columns (total 8 columns):\n",
            " #   Column    Non-Null Count  Dtype  \n",
            "---  ------    --------------  -----  \n",
            " 0   Brand     1006 non-null   object \n",
            " 1   Model     1006 non-null   object \n",
            " 2   Type      1006 non-null   object \n",
            " 3   Gender    1006 non-null   object \n",
            " 4   Size      1006 non-null   object \n",
            " 5   Color     1006 non-null   object \n",
            " 6   Material  1006 non-null   object \n",
            " 7   Price     1006 non-null   float64\n",
            "dtypes: float64(1), object(7)\n",
            "memory usage: 63.0+ KB\n"
          ]
        }
      ]
    },
    {
      "cell_type": "code",
      "source": [
        "#variables categoricas\n",
        "columnas_categoricas = data.select_dtypes(include=['object']).columns"
      ],
      "metadata": {
        "id": "sFmWfM7Mjn9Z"
      },
      "execution_count": 17,
      "outputs": []
    },
    {
      "cell_type": "code",
      "source": [
        "#Procesamiento de frases o palabras\n",
        "for columna in columnas_categoricas:\n",
        "  le = LabelEncoder()\n",
        "  data[columna] = le.fit_transform(data[columna])"
      ],
      "metadata": {
        "id": "GcxRaOoqkOyD"
      },
      "execution_count": 19,
      "outputs": []
    },
    {
      "cell_type": "code",
      "source": [
        "#resultado\n",
        "print(data)"
      ],
      "metadata": {
        "colab": {
          "base_uri": "https://localhost:8080/"
        },
        "id": "vHzN_Uj0kS96",
        "outputId": "2fb85c1c-28f4-41c9-9b0a-b820e5558165"
      },
      "execution_count": 20,
      "outputs": [
        {
          "output_type": "stream",
          "name": "stdout",
          "text": [
            "      Brand  Model  Type  Gender  Size  Color  Material  Price\n",
            "0         5     17     0       0     0     61        10  170.0\n",
            "1         0    212    10       0    12      1        20  180.0\n",
            "2         7     49     1       0     2     67        10   75.0\n",
            "3         2     48     1       1     9     52         0   55.0\n",
            "4         6    105     7       1     8     56        14   80.0\n",
            "...     ...    ...   ...     ...   ...    ...       ...    ...\n",
            "1001      4     89    10       1     0     39        14  130.0\n",
            "1002      1    123    10       0    12      1        14  160.0\n",
            "1003      3    225     5       1     8     67        10   70.0\n",
            "1004      8    202    15       0     9     39        14   55.0\n",
            "1005      5     22    10       1     8     63        10  170.0\n",
            "\n",
            "[1006 rows x 8 columns]\n"
          ]
        }
      ]
    },
    {
      "cell_type": "code",
      "source": [
        "data.info()"
      ],
      "metadata": {
        "colab": {
          "base_uri": "https://localhost:8080/"
        },
        "id": "tJ9GFsACksGy",
        "outputId": "6197de46-0bca-455f-9371-7a2c375d49ea"
      },
      "execution_count": 21,
      "outputs": [
        {
          "output_type": "stream",
          "name": "stdout",
          "text": [
            "<class 'pandas.core.frame.DataFrame'>\n",
            "RangeIndex: 1006 entries, 0 to 1005\n",
            "Data columns (total 8 columns):\n",
            " #   Column    Non-Null Count  Dtype  \n",
            "---  ------    --------------  -----  \n",
            " 0   Brand     1006 non-null   int64  \n",
            " 1   Model     1006 non-null   int64  \n",
            " 2   Type      1006 non-null   int64  \n",
            " 3   Gender    1006 non-null   int64  \n",
            " 4   Size      1006 non-null   int64  \n",
            " 5   Color     1006 non-null   int64  \n",
            " 6   Material  1006 non-null   int64  \n",
            " 7   Price     1006 non-null   float64\n",
            "dtypes: float64(1), int64(7)\n",
            "memory usage: 63.0 KB\n"
          ]
        }
      ]
    },
    {
      "cell_type": "code",
      "source": [
        "data.info()"
      ],
      "metadata": {
        "colab": {
          "base_uri": "https://localhost:8080/"
        },
        "id": "IZheY0q7lvQg",
        "outputId": "f0d50f66-95a9-4584-eeb8-563b7b2583ad"
      },
      "execution_count": 22,
      "outputs": [
        {
          "output_type": "stream",
          "name": "stdout",
          "text": [
            "<class 'pandas.core.frame.DataFrame'>\n",
            "RangeIndex: 1006 entries, 0 to 1005\n",
            "Data columns (total 8 columns):\n",
            " #   Column    Non-Null Count  Dtype  \n",
            "---  ------    --------------  -----  \n",
            " 0   Brand     1006 non-null   int64  \n",
            " 1   Model     1006 non-null   int64  \n",
            " 2   Type      1006 non-null   int64  \n",
            " 3   Gender    1006 non-null   int64  \n",
            " 4   Size      1006 non-null   int64  \n",
            " 5   Color     1006 non-null   int64  \n",
            " 6   Material  1006 non-null   int64  \n",
            " 7   Price     1006 non-null   float64\n",
            "dtypes: float64(1), int64(7)\n",
            "memory usage: 63.0 KB\n"
          ]
        }
      ]
    },
    {
      "cell_type": "code",
      "source": [
        "# Lectura de Datos\n",
        "X = data.iloc[:, :7]\n",
        "y = data.iloc[:, 7]\n",
        "m = y.size"
      ],
      "metadata": {
        "id": "YuuRUXgCwvZ_"
      },
      "execution_count": 24,
      "outputs": []
    },
    {
      "cell_type": "code",
      "source": [
        "print(X)\n",
        "print('*'*25)\n",
        "print(y)"
      ],
      "metadata": {
        "colab": {
          "base_uri": "https://localhost:8080/"
        },
        "id": "x1NBC6A6xFoC",
        "outputId": "c60c9ae5-b33d-452b-c0bb-a9ae7d3d5670"
      },
      "execution_count": 25,
      "outputs": [
        {
          "output_type": "stream",
          "name": "stdout",
          "text": [
            "      Brand  Model  Type  Gender  Size  Color  Material\n",
            "0         5     17     0       0     0     61        10\n",
            "1         0    212    10       0    12      1        20\n",
            "2         7     49     1       0     2     67        10\n",
            "3         2     48     1       1     9     52         0\n",
            "4         6    105     7       1     8     56        14\n",
            "...     ...    ...   ...     ...   ...    ...       ...\n",
            "1001      4     89    10       1     0     39        14\n",
            "1002      1    123    10       0    12      1        14\n",
            "1003      3    225     5       1     8     67        10\n",
            "1004      8    202    15       0     9     39        14\n",
            "1005      5     22    10       1     8     63        10\n",
            "\n",
            "[1006 rows x 7 columns]\n",
            "*************************\n",
            "0       170.0\n",
            "1       180.0\n",
            "2        75.0\n",
            "3        55.0\n",
            "4        80.0\n",
            "        ...  \n",
            "1001    130.0\n",
            "1002    160.0\n",
            "1003     70.0\n",
            "1004     55.0\n",
            "1005    170.0\n",
            "Name: Price, Length: 1006, dtype: float64\n"
          ]
        }
      ]
    },
    {
      "cell_type": "code",
      "source": [
        "#Funcion para normalizar los datos\n",
        "def  featureNormalize(X):\n",
        "    X_norm = X.copy()\n",
        "    mu = np.zeros(X.shape[1])\n",
        "    sigma = np.zeros(X.shape[1])\n",
        "\n",
        "    mu = np.mean(X, axis = 0)\n",
        "    sigma = np.std(X, axis = 0)\n",
        "    X_norm = (X - mu) / sigma\n",
        "\n",
        "    return X_norm, mu, sigma"
      ],
      "metadata": {
        "id": "DrrFytt2gkI8"
      },
      "execution_count": 26,
      "outputs": []
    },
    {
      "cell_type": "code",
      "source": [
        "# llama featureNormalize con los datos cargados\n",
        "X_norm, mu, sigma = featureNormalize(X)\n",
        "\n",
        "print(X)\n",
        "print('Media calculada:', mu)\n",
        "print('Desviación estandar calculada:', sigma)\n",
        "print(X_norm)"
      ],
      "metadata": {
        "colab": {
          "base_uri": "https://localhost:8080/"
        },
        "id": "MhHhItqc4YLy",
        "outputId": "c4a5894a-afcb-4186-bbb6-26e33c456d62"
      },
      "execution_count": 27,
      "outputs": [
        {
          "output_type": "stream",
          "name": "stdout",
          "text": [
            "      Brand  Model  Type  Gender  Size  Color  Material\n",
            "0         5     17     0       0     0     61        10\n",
            "1         0    212    10       0    12      1        20\n",
            "2         7     49     1       0     2     67        10\n",
            "3         2     48     1       1     9     52         0\n",
            "4         6    105     7       1     8     56        14\n",
            "...     ...    ...   ...     ...   ...    ...       ...\n",
            "1001      4     89    10       1     0     39        14\n",
            "1002      1    123    10       0    12      1        14\n",
            "1003      3    225     5       1     8     67        10\n",
            "1004      8    202    15       0     9     39        14\n",
            "1005      5     22    10       1     8     63        10\n",
            "\n",
            "[1006 rows x 7 columns]\n",
            "Media calculada: Brand         4.472167\n",
            "Model       118.103380\n",
            "Type          7.154076\n",
            "Gender        0.468191\n",
            "Size          7.089463\n",
            "Color        35.570577\n",
            "Material     13.236581\n",
            "dtype: float64\n",
            "Desviación estandar calculada: Brand        2.840477\n",
            "Model       68.314304\n",
            "Type         4.795118\n",
            "Gender       0.498987\n",
            "Size         4.015124\n",
            "Color       26.550535\n",
            "Material     7.749668\n",
            "dtype: float64\n",
            "         Brand     Model      Type    Gender      Size     Color  Material\n",
            "0     0.185825 -1.479974 -1.491950 -0.938282 -1.765690  0.957774 -0.417641\n",
            "1    -1.574442  1.374480  0.593505 -0.938282  1.223010 -1.302067  0.872737\n",
            "2     0.889933 -1.011551 -1.283404 -0.938282 -1.267573  1.183759 -0.417641\n",
            "3    -0.870335 -1.026189 -1.283404  1.065777  0.475835  0.618798 -1.708019\n",
            "4     0.537879 -0.191810 -0.032132  1.065777  0.226777  0.769454  0.098510\n",
            "...        ...       ...       ...       ...       ...       ...       ...\n",
            "1001 -0.166228 -0.426022  0.593505  1.065777 -1.765690  0.129166  0.098510\n",
            "1002 -1.222389  0.071678  0.593505 -0.938282  1.223010 -1.302067  0.098510\n",
            "1003 -0.518282  1.564777 -0.449223  1.065777  0.226777  1.183759 -0.417641\n",
            "1004  1.241986  1.228097  1.636232 -0.938282  0.475835  0.129166  0.098510\n",
            "1005  0.185825 -1.406783  0.593505  1.065777  0.226777  1.033102 -0.417641\n",
            "\n",
            "[1006 rows x 7 columns]\n"
          ]
        }
      ]
    },
    {
      "cell_type": "code",
      "source": [
        "# Añade el termino de interseccion a X\n",
        "# (Columna de unos para X0)\n",
        "X = np.concatenate([np.ones((m, 1)), X_norm], axis=1)"
      ],
      "metadata": {
        "id": "EB4cCmdm4bxJ"
      },
      "execution_count": 28,
      "outputs": []
    },
    {
      "cell_type": "code",
      "source": [
        "print(X)"
      ],
      "metadata": {
        "colab": {
          "base_uri": "https://localhost:8080/"
        },
        "id": "jxdWrQDC4fcD",
        "outputId": "3a16b39e-1dd9-4c87-ba41-11317c35749c"
      },
      "execution_count": 29,
      "outputs": [
        {
          "output_type": "stream",
          "name": "stdout",
          "text": [
            "[[ 1.          0.18582547 -1.47997379 ... -1.76568972  0.95777443\n",
            "  -0.4176412 ]\n",
            " [ 1.         -1.57444213  1.37447964 ...  1.22300998 -1.30206705\n",
            "   0.87273671]\n",
            " [ 1.          0.8899325  -1.01155066 ... -1.2675731   1.18375858\n",
            "  -0.4176412 ]\n",
            " ...\n",
            " [ 1.         -0.51828157  1.56477653 ...  0.22677675  1.18375858\n",
            "  -0.4176412 ]\n",
            " [ 1.          1.24198602  1.22809741 ...  0.47583506  0.12916589\n",
            "   0.09850996]\n",
            " [ 1.          0.18582547 -1.40678267 ...  0.22677675  1.03310248\n",
            "  -0.4176412 ]]\n"
          ]
        }
      ]
    },
    {
      "cell_type": "code",
      "source": [
        "def computeCostMulti(X, y, theta):\n",
        "    # Inicializa algunos valores utiles\n",
        "    m = y.shape[0] # numero de ejemplos de entrenamiento\n",
        "\n",
        "    J = 0\n",
        "\n",
        "    h = np.dot(X, theta)\n",
        "\n",
        "    J = (1/(2 * m)) * np.sum(np.square(np.dot(X, theta) - y))\n",
        "\n",
        "    return J\n"
      ],
      "metadata": {
        "id": "is_NER384kX5"
      },
      "execution_count": 30,
      "outputs": []
    },
    {
      "cell_type": "code",
      "source": [
        "def gradientDescentMulti(X, y, theta, alpha, num_iters):\n",
        "\n",
        "    # Inicializa algunos valores\n",
        "    m = y.shape[0] # numero de ejemplos de entrenamiento\n",
        "\n",
        "    # realiza una copia de theta, el cual será acutalizada por el descenso por el gradiente\n",
        "    theta = theta.copy()\n",
        "\n",
        "    J_history = []\n",
        "\n",
        "    for i in range(num_iters):\n",
        "        theta = theta - (alpha / m) * (np.dot(X, theta) - y).dot(X)\n",
        "        J_history.append(computeCostMulti(X, y, theta))\n",
        "\n",
        "    return theta, J_history"
      ],
      "metadata": {
        "id": "NTic99Il4k9H"
      },
      "execution_count": 31,
      "outputs": []
    },
    {
      "cell_type": "code",
      "source": [
        "# Elegir algun valor para alpha (probar varias alternativas)\n",
        "\n",
        "# si es grande se resta más a los thetas, si es menor alfa va cambiando poco a poco\n",
        "#se necesitan muchas iteraciones, si es grande el alfa salta mucho y no llega facilmente\n",
        "alpha = 0.001\n",
        "num_iters = 4000\n",
        "\n",
        "# inicializa theta y ejecuta el descenso por el gradiente\n",
        "theta = np.zeros(8)\n",
        "theta, J_history = gradientDescentMulti(X, y, theta, alpha, num_iters)\n",
        "\n",
        "# Grafica la convergencia del costo\n",
        "pyplot.plot(np.arange(len(J_history)), J_history, lw=2)\n",
        "pyplot.xlabel('Numero de iteraciones')\n",
        "pyplot.ylabel('Costo J')\n",
        "\n",
        "# Muestra los resultados del descenso por el gradiente\n",
        "print('theta calculado por el descenso por el gradiente: {:s}'.format(str(theta)))\n",
        "\n",
        "# Estimar el precio para un Shoe prices con distintas caracteristicas\n",
        "X_array = [1, 6, 48, 9, 1, 7, 65, 12]\n",
        "X_array[1:8] = (X_array[1:8] - mu) / sigma\n",
        "price = np.dot(X_array, theta)\n",
        "\n",
        "print('El valor predecido es (usando el descenso por el gradiente): {:.4f}'.format(price))"
      ],
      "metadata": {
        "colab": {
          "base_uri": "https://localhost:8080/",
          "height": 501
        },
        "id": "2sc2AmKF4qJQ",
        "outputId": "60ee163f-cdd1-4106-c359-ddf5e42df0f3"
      },
      "execution_count": 35,
      "outputs": [
        {
          "output_type": "stream",
          "name": "stdout",
          "text": [
            "theta calculado por el descenso por el gradiente: [ 99.45436614 -18.72549459   1.26627745   8.8934609   -2.64542372\n",
            "  -1.78001855  -4.33318721   6.2800082 ]\n",
            "El valor predecido es (usando el descenso por el gradiente): 82.9216\n"
          ]
        },
        {
          "output_type": "display_data",
          "data": {
            "text/plain": [
              "<Figure size 640x480 with 1 Axes>"
            ],
            "image/png": "[encoded data removed]"
          },
          "metadata": {}
        }
      ]
    },
    {
      "cell_type": "code",
      "source": [
        "X_array = [1, 6, 48, 9, 1, 7, 65, 12]\n",
        "X_array[1:8] = (X_array[1:8] - mu) / sigma"
      ],
      "metadata": {
        "id": "pHpGapUtf4QP"
      },
      "execution_count": 38,
      "outputs": []
    },
    {
      "cell_type": "code",
      "source": [
        "X_array[1:8]"
      ],
      "metadata": {
        "colab": {
          "base_uri": "https://localhost:8080/"
        },
        "id": "c_fhRmzof56K",
        "outputId": "6402f392-ac0e-4525-f26f-b2a972233283"
      },
      "execution_count": 40,
      "outputs": [
        {
          "output_type": "execute_result",
          "data": {
            "text/plain": [
              "[0.537878985163802,\n",
              " -1.0261888831960273,\n",
              " 0.3849591073435811,\n",
              " 1.0657772300222828,\n",
              " -0.022281558423958497,\n",
              " 1.1084305294258125,\n",
              " -0.1595656177664658]"
            ]
          },
          "metadata": {},
          "execution_count": 40
        }
      ]
    },
    {
      "cell_type": "code",
      "source": [
        "#Carga de dataset para ecuacion de la normalizacion\n",
        "data = pd.read_csv('/content/Shoe prices.csv')"
      ],
      "metadata": {
        "id": "mkyKObWNL6xa"
      },
      "execution_count": 78,
      "outputs": []
    },
    {
      "cell_type": "code",
      "source": [
        "# Eliminamos el simbolo de $ del precio\n",
        "columnas_eliminar = ['Price (USD)']\n",
        "simbolo = '$'\n",
        "\n",
        "for columna in columnas_eliminar:\n",
        "    data[columna] = data[columna].str.replace(simbolo, '', regex=False)"
      ],
      "metadata": {
        "id": "UhA0G2UIMa0M"
      },
      "execution_count": 79,
      "outputs": []
    },
    {
      "cell_type": "code",
      "source": [
        "# Supongamos que 'data' es tu DataFrame\n",
        "columna_categorica = 'Price (USD)'\n",
        "columna_numerica = 'Price'\n",
        "\n",
        "# Crea una nueva columna numérica y copia los valores de la columna categórica\n",
        "data[columna_numerica] = pd.to_numeric(data[columna_categorica], errors='coerce')\n",
        "\n",
        "# Elimina la columna categórica original\n",
        "data.drop(columna_categorica, axis=1, inplace=True)"
      ],
      "metadata": {
        "id": "PXOtD-1HMi75"
      },
      "execution_count": 80,
      "outputs": []
    },
    {
      "cell_type": "code",
      "source": [
        "#variables categoricas\n",
        "columnas_categoricas = data.select_dtypes(include=['object']).columns"
      ],
      "metadata": {
        "id": "HmcLpXp9MoH0"
      },
      "execution_count": 81,
      "outputs": []
    },
    {
      "cell_type": "code",
      "source": [
        "#Procesamiento de frases o palabras\n",
        "for columna in columnas_categoricas:\n",
        "  le = LabelEncoder()\n",
        "  data[columna] = le.fit_transform(data[columna])"
      ],
      "metadata": {
        "id": "WbWqCdsUMtbo"
      },
      "execution_count": 82,
      "outputs": []
    },
    {
      "cell_type": "code",
      "source": [
        "data.info()"
      ],
      "metadata": {
        "colab": {
          "base_uri": "https://localhost:8080/"
        },
        "id": "94pncdTJ5ZJG",
        "outputId": "b8e8f4ec-8c69-4fc4-a2a4-bf02a6f1f2c9"
      },
      "execution_count": 83,
      "outputs": [
        {
          "output_type": "stream",
          "name": "stdout",
          "text": [
            "<class 'pandas.core.frame.DataFrame'>\n",
            "RangeIndex: 1006 entries, 0 to 1005\n",
            "Data columns (total 8 columns):\n",
            " #   Column    Non-Null Count  Dtype  \n",
            "---  ------    --------------  -----  \n",
            " 0   Brand     1006 non-null   int64  \n",
            " 1   Model     1006 non-null   int64  \n",
            " 2   Type      1006 non-null   int64  \n",
            " 3   Gender    1006 non-null   int64  \n",
            " 4   Size      1006 non-null   int64  \n",
            " 5   Color     1006 non-null   int64  \n",
            " 6   Material  1006 non-null   int64  \n",
            " 7   Price     1006 non-null   float64\n",
            "dtypes: float64(1), int64(7)\n",
            "memory usage: 63.0 KB\n"
          ]
        }
      ]
    },
    {
      "cell_type": "code",
      "source": [
        "# Generar un nuevo dataset con la columna movida\n",
        "nuevo_dataset = data.copy()\n",
        "\n",
        "# Guardar el nuevo DataFrame en un archivo CSV\n",
        "nuevo_dataset.to_csv('Nuevo_Shoe_prices.csv', index=False)\n",
        "\n",
        "print(\"Archivo 'Nuevo_Shoe_prices.csv' creado exitosamente.\")"
      ],
      "metadata": {
        "colab": {
          "base_uri": "https://localhost:8080/"
        },
        "id": "afrQKVkvN3Vt",
        "outputId": "7324d71c-ed25-4568-d8f3-1c1fc42a12ee"
      },
      "execution_count": 84,
      "outputs": [
        {
          "output_type": "stream",
          "name": "stdout",
          "text": [
            "Archivo 'Nuevo_Shoe_prices.csv' creado exitosamente.\n"
          ]
        }
      ]
    },
    {
      "cell_type": "code",
      "source": [
        "#Carga de dataset\n",
        "data = pd.read_csv('/content/Nuevo_Shoe_prices.csv')"
      ],
      "metadata": {
        "id": "cH7o-MrNOBOF"
      },
      "execution_count": 86,
      "outputs": []
    },
    {
      "cell_type": "code",
      "source": [
        "print(data)"
      ],
      "metadata": {
        "colab": {
          "base_uri": "https://localhost:8080/"
        },
        "id": "W3r9mN9FOCf_",
        "outputId": "147a2aaf-8cdf-4f4a-c0c2-c83af94c616c"
      },
      "execution_count": 87,
      "outputs": [
        {
          "output_type": "stream",
          "name": "stdout",
          "text": [
            "      Brand  Model  Type  Gender  Size  Color  Material  Price\n",
            "0         5     17     0       0     0     61        10  170.0\n",
            "1         0    212    10       0    12      1        20  180.0\n",
            "2         7     49     1       0     2     67        10   75.0\n",
            "3         2     48     1       1     9     52         0   55.0\n",
            "4         6    105     7       1     8     56        14   80.0\n",
            "...     ...    ...   ...     ...   ...    ...       ...    ...\n",
            "1001      4     89    10       1     0     39        14  130.0\n",
            "1002      1    123    10       0    12      1        14  160.0\n",
            "1003      3    225     5       1     8     67        10   70.0\n",
            "1004      8    202    15       0     9     39        14   55.0\n",
            "1005      5     22    10       1     8     63        10  170.0\n",
            "\n",
            "[1006 rows x 8 columns]\n"
          ]
        }
      ]
    },
    {
      "cell_type": "code",
      "source": [
        "# Lectura de Datos\n",
        "X = data.iloc[:, :7]\n",
        "y = data.iloc[:, 7]\n",
        "m = y.size"
      ],
      "metadata": {
        "id": "WBXdprvkM71B"
      },
      "execution_count": 88,
      "outputs": []
    },
    {
      "cell_type": "code",
      "source": [
        "print(X)\n",
        "print('*'*25)\n",
        "print(y)"
      ],
      "metadata": {
        "colab": {
          "base_uri": "https://localhost:8080/"
        },
        "id": "6RMQ4dhdNM-P",
        "outputId": "ce4d6443-fddf-4d8f-eb92-e722a9b4501d"
      },
      "execution_count": 89,
      "outputs": [
        {
          "output_type": "stream",
          "name": "stdout",
          "text": [
            "      Brand  Model  Type  Gender  Size  Color  Material\n",
            "0         5     17     0       0     0     61        10\n",
            "1         0    212    10       0    12      1        20\n",
            "2         7     49     1       0     2     67        10\n",
            "3         2     48     1       1     9     52         0\n",
            "4         6    105     7       1     8     56        14\n",
            "...     ...    ...   ...     ...   ...    ...       ...\n",
            "1001      4     89    10       1     0     39        14\n",
            "1002      1    123    10       0    12      1        14\n",
            "1003      3    225     5       1     8     67        10\n",
            "1004      8    202    15       0     9     39        14\n",
            "1005      5     22    10       1     8     63        10\n",
            "\n",
            "[1006 rows x 7 columns]\n",
            "*************************\n",
            "0       170.0\n",
            "1       180.0\n",
            "2        75.0\n",
            "3        55.0\n",
            "4        80.0\n",
            "        ...  \n",
            "1001    130.0\n",
            "1002    160.0\n",
            "1003     70.0\n",
            "1004     55.0\n",
            "1005    170.0\n",
            "Name: Price, Length: 1006, dtype: float64\n"
          ]
        }
      ]
    },
    {
      "cell_type": "code",
      "source": [
        "# Añade el termino de interseccion a X\n",
        "# (Columna de unos para X0)\n",
        "X = np.concatenate([np.ones((m, 1)), X], axis=1)"
      ],
      "metadata": {
        "id": "AfIl12w_PxG_"
      },
      "execution_count": 91,
      "outputs": []
    },
    {
      "cell_type": "code",
      "source": [
        "# importante que para usar m>n, evitar datos redundantes, no se normaliza\n",
        "def normalEqn(X, y):\n",
        "\n",
        "    theta = np.zeros(X.shape[1])\n",
        "\n",
        "    theta = np.dot(np.dot(np.linalg.inv(np.dot(X.T,X)),X.T),y)\n",
        "\n",
        "    return theta"
      ],
      "metadata": {
        "id": "_MMoIdODf9FN"
      },
      "execution_count": 92,
      "outputs": []
    },
    {
      "cell_type": "code",
      "source": [
        "# Calcula los parametros con la ecuación de la normal\n",
        "theta = normalEqn(X, y);\n",
        "\n",
        "# Muestra los resultados optenidos a partir de la aplicación de la ecuación de la normal\n",
        "print('Theta calculado a partir de la ecuación de la normal: {:s}'.format(str(theta)));\n",
        "\n",
        "# Estimar el precio para calzados\n",
        "\n",
        "X_array = [1, 5, 44, 8, 1, 6, 60, 12]\n",
        "price = np.dot(X_array, theta)\n",
        "\n",
        "print('Precio predecido calzados (usando la ecuación de la normal): ${:.0f}'.format(price))"
      ],
      "metadata": {
        "colab": {
          "base_uri": "https://localhost:8080/"
        },
        "id": "E7px4OMrf9un",
        "outputId": "4ca11a0d-d496-45cc-ea34-1993f5a37157"
      },
      "execution_count": 94,
      "outputs": [
        {
          "output_type": "stream",
          "name": "stdout",
          "text": [
            "Theta calculado a partir de la ecuación de la normal: [ 1.17753000e+02 -7.05054616e+00  1.04922618e-02  2.15092114e+00\n",
            " -6.30149830e+00 -4.27853096e-01 -1.53054946e-01  7.46805022e-01]\n",
            "Precio predecido calzados (usando la ecuación de la normal): $91\n"
          ]
        }
      ]
    }
  ]
}