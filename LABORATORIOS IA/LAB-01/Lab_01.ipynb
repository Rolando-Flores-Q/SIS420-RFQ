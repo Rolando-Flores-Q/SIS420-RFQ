{
  "nbformat": 4,
  "nbformat_minor": 0,
  "metadata": {
    "colab": {
      "provenance": []
    },
    "kernelspec": {
      "name": "python3",
      "display_name": "Python 3"
    },
    "language_info": {
      "name": "python"
    }
  },
  "cells": [
    {
      "cell_type": "code",
      "execution_count": 37,
      "metadata": {
        "id": "qUxgZvq33-ID"
      },
      "outputs": [],
      "source": [
        "# utilizado para manejos de directorios y rutas\n",
        "import os\n",
        "\n",
        "# Computacion vectorial y cientifica para python\n",
        "import numpy as np\n",
        "\n",
        "# Librerias para graficación (trazado de gráficos)\n",
        "from matplotlib import pyplot\n",
        "from mpl_toolkits.mplot3d import Axes3D  # Necesario para graficar superficies 3D\n",
        "\n",
        "# llama a matplotlib a embeber graficas dentro de los cuadernillos\n",
        "%matplotlib inline"
      ]
    },
    {
      "cell_type": "code",
      "source": [
        "import pandas as pd\n",
        "from sklearn.preprocessing import LabelEncoder\n",
        "from datetime import datetime"
      ],
      "metadata": {
        "id": "3zeLCpwjiQCT"
      },
      "execution_count": 38,
      "outputs": []
    },
    {
      "cell_type": "code",
      "source": [
        "#Carga de dataset\n",
        "data = pd.read_csv('/content/Luxury watch.csv')"
      ],
      "metadata": {
        "id": "V0ZXOA-6iUmV"
      },
      "execution_count": 39,
      "outputs": []
    },
    {
      "cell_type": "code",
      "source": [
        "print(data)"
      ],
      "metadata": {
        "colab": {
          "base_uri": "https://localhost:8080/"
        },
        "id": "h325dVhXicrs",
        "outputId": "2f4f15f1-672d-43b9-dae2-d2dc045fa3e2"
      },
      "execution_count": 40,
      "outputs": [
        {
          "output_type": "stream",
          "name": "stdout",
          "text": [
            "                   Brand              Model    Case Material   Strap Material  \\\n",
            "0                  Rolex         Submariner  Stainless Steel  Stainless Steel   \n",
            "1                  Omega          Seamaster         Titanium           Rubber   \n",
            "2              Tag Heuer            Carrera  Stainless Steel          Leather   \n",
            "3              Breitling          Navitimer  Stainless Steel  Stainless Steel   \n",
            "4                Cartier          Tank Solo  Stainless Steel          Leather   \n",
            "..                   ...                ...              ...              ...   \n",
            "502              Breguet          Classique    18k Rose Gold          Leather   \n",
            "503            Blancpain      Fifty Fathoms  Stainless Steel           Fabric   \n",
            "504             Longines  Master Collection  Stainless Steel          Leather   \n",
            "505  Vacheron Constantin           Overseas  Stainless Steel  Stainless Steel   \n",
            "506  Frederique Constant           Classics  Stainless Steel          Leather   \n",
            "\n",
            "    Movement Type Water Resistance  Case Diameter (mm)  Case Thickness (mm)  \\\n",
            "0       Automatic       300 meters                40.0                13.00   \n",
            "1       Automatic       600 meters                43.5                14.47   \n",
            "2       Automatic       100 meters                41.0                13.00   \n",
            "3       Automatic        30 meters                43.0                14.25   \n",
            "4          Quartz        30 meters                31.0                 6.05   \n",
            "..            ...              ...                 ...                  ...   \n",
            "502     Automatic        30 meters                38.5                 8.25   \n",
            "503     Automatic       300 meters                45.0                15.50   \n",
            "504     Automatic        30 meters                38.5                 9.70   \n",
            "505     Automatic       150 meters                41.5                11.00   \n",
            "506     Automatic        50 meters                40.0                10.60   \n",
            "\n",
            "     Band Width (mm) Dial Color Crystal Material Complications Power Reserve  \\\n",
            "0               20.0      Black         Sapphire          Date      48 hours   \n",
            "1               21.0       Blue         Sapphire          Date      60 hours   \n",
            "2               20.0      White         Sapphire   Chronograph      42 hours   \n",
            "3               22.0      Black         Sapphire   Chronograph      70 hours   \n",
            "4               20.0     Silver         Sapphire          None           NaN   \n",
            "..               ...        ...              ...           ...           ...   \n",
            "502             20.0      White         Sapphire          Date      38 hours   \n",
            "503             23.0      Black         Sapphire          Date     120 hours   \n",
            "504             20.0       Blue         Sapphire          Date      64 hours   \n",
            "505             22.0       Blue         Sapphire          Date      40 hours   \n",
            "506             20.0     Silver         Sapphire          Date      38 hours   \n",
            "\n",
            "    Price (USD)  \n",
            "0         9,500  \n",
            "1         5,800  \n",
            "2         4,200  \n",
            "3         7,900  \n",
            "4         2,800  \n",
            "..          ...  \n",
            "502      21,500  \n",
            "503      13,500  \n",
            "504       1,800  \n",
            "505      19,000  \n",
            "506       1,200  \n",
            "\n",
            "[507 rows x 14 columns]\n"
          ]
        }
      ]
    },
    {
      "cell_type": "code",
      "source": [
        "data.info()"
      ],
      "metadata": {
        "colab": {
          "base_uri": "https://localhost:8080/"
        },
        "id": "ZoYIJwRyifh-",
        "outputId": "6fbca716-99e3-4ef9-ebad-fd56b56ae3bf"
      },
      "execution_count": 41,
      "outputs": [
        {
          "output_type": "stream",
          "name": "stdout",
          "text": [
            "<class 'pandas.core.frame.DataFrame'>\n",
            "RangeIndex: 507 entries, 0 to 506\n",
            "Data columns (total 14 columns):\n",
            " #   Column               Non-Null Count  Dtype  \n",
            "---  ------               --------------  -----  \n",
            " 0   Brand                507 non-null    object \n",
            " 1   Model                507 non-null    object \n",
            " 2   Case Material        507 non-null    object \n",
            " 3   Strap Material       507 non-null    object \n",
            " 4   Movement Type        507 non-null    object \n",
            " 5   Water Resistance     507 non-null    object \n",
            " 6   Case Diameter (mm)   507 non-null    float64\n",
            " 7   Case Thickness (mm)  507 non-null    float64\n",
            " 8   Band Width (mm)      507 non-null    float64\n",
            " 9   Dial Color           507 non-null    object \n",
            " 10  Crystal Material     507 non-null    object \n",
            " 11  Complications        507 non-null    object \n",
            " 12  Power Reserve        493 non-null    object \n",
            " 13  Price (USD)          506 non-null    object \n",
            "dtypes: float64(3), object(11)\n",
            "memory usage: 55.6+ KB\n"
          ]
        }
      ]
    },
    {
      "cell_type": "code",
      "source": [
        "# columnas_eliminar = ['Price (USD)']\n",
        "# simbolo = '$'\n",
        "\n",
        "# for columna in columnas_eliminar:\n",
        "#     data[columna] = data[columna].str.replace(simbolo, '', regex=False)"
      ],
      "metadata": {
        "id": "HcW3ITuoi4aw"
      },
      "execution_count": 42,
      "outputs": []
    },
    {
      "cell_type": "code",
      "source": [
        "print(data)"
      ],
      "metadata": {
        "colab": {
          "base_uri": "https://localhost:8080/"
        },
        "id": "CDcJv73OABpB",
        "outputId": "8f1317cd-6f23-4bc9-8d03-6c8532b9eb98"
      },
      "execution_count": 43,
      "outputs": [
        {
          "output_type": "stream",
          "name": "stdout",
          "text": [
            "                   Brand              Model    Case Material   Strap Material  \\\n",
            "0                  Rolex         Submariner  Stainless Steel  Stainless Steel   \n",
            "1                  Omega          Seamaster         Titanium           Rubber   \n",
            "2              Tag Heuer            Carrera  Stainless Steel          Leather   \n",
            "3              Breitling          Navitimer  Stainless Steel  Stainless Steel   \n",
            "4                Cartier          Tank Solo  Stainless Steel          Leather   \n",
            "..                   ...                ...              ...              ...   \n",
            "502              Breguet          Classique    18k Rose Gold          Leather   \n",
            "503            Blancpain      Fifty Fathoms  Stainless Steel           Fabric   \n",
            "504             Longines  Master Collection  Stainless Steel          Leather   \n",
            "505  Vacheron Constantin           Overseas  Stainless Steel  Stainless Steel   \n",
            "506  Frederique Constant           Classics  Stainless Steel          Leather   \n",
            "\n",
            "    Movement Type Water Resistance  Case Diameter (mm)  Case Thickness (mm)  \\\n",
            "0       Automatic       300 meters                40.0                13.00   \n",
            "1       Automatic       600 meters                43.5                14.47   \n",
            "2       Automatic       100 meters                41.0                13.00   \n",
            "3       Automatic        30 meters                43.0                14.25   \n",
            "4          Quartz        30 meters                31.0                 6.05   \n",
            "..            ...              ...                 ...                  ...   \n",
            "502     Automatic        30 meters                38.5                 8.25   \n",
            "503     Automatic       300 meters                45.0                15.50   \n",
            "504     Automatic        30 meters                38.5                 9.70   \n",
            "505     Automatic       150 meters                41.5                11.00   \n",
            "506     Automatic        50 meters                40.0                10.60   \n",
            "\n",
            "     Band Width (mm) Dial Color Crystal Material Complications Power Reserve  \\\n",
            "0               20.0      Black         Sapphire          Date      48 hours   \n",
            "1               21.0       Blue         Sapphire          Date      60 hours   \n",
            "2               20.0      White         Sapphire   Chronograph      42 hours   \n",
            "3               22.0      Black         Sapphire   Chronograph      70 hours   \n",
            "4               20.0     Silver         Sapphire          None           NaN   \n",
            "..               ...        ...              ...           ...           ...   \n",
            "502             20.0      White         Sapphire          Date      38 hours   \n",
            "503             23.0      Black         Sapphire          Date     120 hours   \n",
            "504             20.0       Blue         Sapphire          Date      64 hours   \n",
            "505             22.0       Blue         Sapphire          Date      40 hours   \n",
            "506             20.0     Silver         Sapphire          Date      38 hours   \n",
            "\n",
            "    Price (USD)  \n",
            "0         9,500  \n",
            "1         5,800  \n",
            "2         4,200  \n",
            "3         7,900  \n",
            "4         2,800  \n",
            "..          ...  \n",
            "502      21,500  \n",
            "503      13,500  \n",
            "504       1,800  \n",
            "505      19,000  \n",
            "506       1,200  \n",
            "\n",
            "[507 rows x 14 columns]\n"
          ]
        }
      ]
    },
    {
      "cell_type": "code",
      "source": [
        "data.info()"
      ],
      "metadata": {
        "colab": {
          "base_uri": "https://localhost:8080/"
        },
        "id": "MJR_ngQEAFSz",
        "outputId": "9bf45b43-28bb-4273-a5bd-86e16d88c09d"
      },
      "execution_count": 44,
      "outputs": [
        {
          "output_type": "stream",
          "name": "stdout",
          "text": [
            "<class 'pandas.core.frame.DataFrame'>\n",
            "RangeIndex: 507 entries, 0 to 506\n",
            "Data columns (total 14 columns):\n",
            " #   Column               Non-Null Count  Dtype  \n",
            "---  ------               --------------  -----  \n",
            " 0   Brand                507 non-null    object \n",
            " 1   Model                507 non-null    object \n",
            " 2   Case Material        507 non-null    object \n",
            " 3   Strap Material       507 non-null    object \n",
            " 4   Movement Type        507 non-null    object \n",
            " 5   Water Resistance     507 non-null    object \n",
            " 6   Case Diameter (mm)   507 non-null    float64\n",
            " 7   Case Thickness (mm)  507 non-null    float64\n",
            " 8   Band Width (mm)      507 non-null    float64\n",
            " 9   Dial Color           507 non-null    object \n",
            " 10  Crystal Material     507 non-null    object \n",
            " 11  Complications        507 non-null    object \n",
            " 12  Power Reserve        493 non-null    object \n",
            " 13  Price (USD)          506 non-null    object \n",
            "dtypes: float64(3), object(11)\n",
            "memory usage: 55.6+ KB\n"
          ]
        }
      ]
    },
    {
      "cell_type": "code",
      "source": [
        "\n",
        "# # Supongamos que 'data' es tu DataFrame\n",
        "# columna_categorica = 'Price (USD)'\n",
        "# columna_numerica = 'Price'\n",
        "\n",
        "# # Crea una nueva columna numérica y copia los valores de la columna categórica\n",
        "# data[columna_numerica] = pd.to_numeric(data[columna_categorica], errors='coerce')\n",
        "\n",
        "# # Elimina la columna categórica original\n",
        "# data.drop(columna_categorica, axis=1, inplace=True)"
      ],
      "metadata": {
        "id": "iFCu2N4YuhfQ"
      },
      "execution_count": 45,
      "outputs": []
    },
    {
      "cell_type": "code",
      "source": [
        "data.info()"
      ],
      "metadata": {
        "colab": {
          "base_uri": "https://localhost:8080/"
        },
        "id": "VpbiDOZmjHzw",
        "outputId": "7909d3d7-9e3b-4709-d887-9e940eec6c34"
      },
      "execution_count": 47,
      "outputs": [
        {
          "output_type": "stream",
          "name": "stdout",
          "text": [
            "<class 'pandas.core.frame.DataFrame'>\n",
            "RangeIndex: 507 entries, 0 to 506\n",
            "Data columns (total 14 columns):\n",
            " #   Column               Non-Null Count  Dtype  \n",
            "---  ------               --------------  -----  \n",
            " 0   Brand                507 non-null    object \n",
            " 1   Model                507 non-null    object \n",
            " 2   Case Material        507 non-null    object \n",
            " 3   Strap Material       507 non-null    object \n",
            " 4   Movement Type        507 non-null    object \n",
            " 5   Water Resistance     507 non-null    object \n",
            " 6   Case Diameter (mm)   507 non-null    float64\n",
            " 7   Case Thickness (mm)  507 non-null    float64\n",
            " 8   Band Width (mm)      507 non-null    float64\n",
            " 9   Dial Color           507 non-null    object \n",
            " 10  Crystal Material     507 non-null    object \n",
            " 11  Complications        507 non-null    object \n",
            " 12  Power Reserve        493 non-null    object \n",
            " 13  Price (USD)          506 non-null    object \n",
            "dtypes: float64(3), object(11)\n",
            "memory usage: 55.6+ KB\n"
          ]
        }
      ]
    },
    {
      "cell_type": "code",
      "source": [
        "#variables categoricas\n",
        "columnas_categoricas = data.select_dtypes(include=['object']).columns\n",
        "#variables fechas\n",
        "columnas_fechas = data.select_dtypes(include=['datetime64']).columns"
      ],
      "metadata": {
        "id": "sFmWfM7Mjn9Z"
      },
      "execution_count": 48,
      "outputs": []
    },
    {
      "cell_type": "code",
      "source": [
        "#Procesamiento de frases o palabras\n",
        "for columna in columnas_categoricas:\n",
        "  le = LabelEncoder()\n",
        "  data[columna] = le.fit_transform(data[columna])"
      ],
      "metadata": {
        "id": "GcxRaOoqkOyD"
      },
      "execution_count": 53,
      "outputs": []
    },
    {
      "cell_type": "code",
      "source": [
        "#Fechas a numeros\n",
        "for columna in columnas_fechas:\n",
        "  data[columna] = pd.to_numeric(data[columna].map(datetime.timestamp))"
      ],
      "metadata": {
        "id": "hVuep7WXkQvA"
      },
      "execution_count": 54,
      "outputs": []
    },
    {
      "cell_type": "code",
      "source": [
        "#resultado\n",
        "print(data)"
      ],
      "metadata": {
        "colab": {
          "base_uri": "https://localhost:8080/"
        },
        "id": "vHzN_Uj0kS96",
        "outputId": "e471b177-326d-44c7-af87-2501bc0824c2"
      },
      "execution_count": 55,
      "outputs": [
        {
          "output_type": "stream",
          "name": "stdout",
          "text": [
            "     Brand  Model  Case Material  Strap Material  Movement Type  \\\n",
            "0       29     85             13              11              0   \n",
            "1       23     80             14               9              0   \n",
            "2       33     16             13               5              0   \n",
            "3        7     59             13              11              0   \n",
            "4       10     89             13               5              3   \n",
            "..     ...    ...            ...             ...            ...   \n",
            "502      6     22              4               5              0   \n",
            "503      5     35             13               2              0   \n",
            "504     21     53             13               5              0   \n",
            "505     37     61             13              11              0   \n",
            "506     13     21             13               5              0   \n",
            "\n",
            "     Water Resistance  Case Diameter (mm)  Case Thickness (mm)  \\\n",
            "0                   7                40.0                13.00   \n",
            "1                  11                43.5                14.47   \n",
            "2                   0                41.0                13.00   \n",
            "3                   6                43.0                14.25   \n",
            "4                   6                31.0                 6.05   \n",
            "..                ...                 ...                  ...   \n",
            "502                 6                38.5                 8.25   \n",
            "503                 7                45.0                15.50   \n",
            "504                 6                38.5                 9.70   \n",
            "505                 3                41.5                11.00   \n",
            "506                 8                40.0                10.60   \n",
            "\n",
            "     Band Width (mm)  Dial Color  Crystal Material  Complications  \\\n",
            "0               20.0           0                 3              4   \n",
            "1               21.0           1                 3              4   \n",
            "2               20.0           6                 3              0   \n",
            "3               22.0           0                 3              0   \n",
            "4               20.0           5                 3             27   \n",
            "..               ...         ...               ...            ...   \n",
            "502             20.0           6                 3              4   \n",
            "503             23.0           0                 3              4   \n",
            "504             20.0           1                 3              4   \n",
            "505             22.0           1                 3              4   \n",
            "506             20.0           5                 3              4   \n",
            "\n",
            "     Power Reserve  Price (USD)  \n",
            "0               13          175  \n",
            "1               18          128  \n",
            "2                8          104  \n",
            "3               22          158  \n",
            "4               25           53  \n",
            "..             ...          ...  \n",
            "502              4           61  \n",
            "503              0           21  \n",
            "504             19            7  \n",
            "505              6           43  \n",
            "506              4            1  \n",
            "\n",
            "[507 rows x 14 columns]\n"
          ]
        }
      ]
    },
    {
      "cell_type": "code",
      "source": [
        "data.info()"
      ],
      "metadata": {
        "colab": {
          "base_uri": "https://localhost:8080/"
        },
        "id": "tJ9GFsACksGy",
        "outputId": "0824d0fd-de62-4779-c271-167c2362ea48"
      },
      "execution_count": 56,
      "outputs": [
        {
          "output_type": "stream",
          "name": "stdout",
          "text": [
            "<class 'pandas.core.frame.DataFrame'>\n",
            "RangeIndex: 507 entries, 0 to 506\n",
            "Data columns (total 14 columns):\n",
            " #   Column               Non-Null Count  Dtype  \n",
            "---  ------               --------------  -----  \n",
            " 0   Brand                507 non-null    int64  \n",
            " 1   Model                507 non-null    int64  \n",
            " 2   Case Material        507 non-null    int64  \n",
            " 3   Strap Material       507 non-null    int64  \n",
            " 4   Movement Type        507 non-null    int64  \n",
            " 5   Water Resistance     507 non-null    int64  \n",
            " 6   Case Diameter (mm)   507 non-null    float64\n",
            " 7   Case Thickness (mm)  507 non-null    float64\n",
            " 8   Band Width (mm)      507 non-null    float64\n",
            " 9   Dial Color           507 non-null    int64  \n",
            " 10  Crystal Material     507 non-null    int64  \n",
            " 11  Complications        507 non-null    int64  \n",
            " 12  Power Reserve        507 non-null    int64  \n",
            " 13  Price (USD)          507 non-null    int64  \n",
            "dtypes: float64(3), int64(11)\n",
            "memory usage: 55.6 KB\n"
          ]
        }
      ]
    },
    {
      "cell_type": "code",
      "source": [
        "#llenar datos vacios\n",
        "# columnas_especificas = ['Price', 'Display Size (inches)']\n",
        "# media_columnas = data[columnas_especificas].mean()\n",
        "# data[columnas_especificas] = data[columnas_especificas].fillna(media_columnas)"
      ],
      "metadata": {
        "id": "aL01HjE1tMNP"
      },
      "execution_count": 58,
      "outputs": []
    },
    {
      "cell_type": "code",
      "source": [
        "data.info()"
      ],
      "metadata": {
        "colab": {
          "base_uri": "https://localhost:8080/"
        },
        "id": "IZheY0q7lvQg",
        "outputId": "c4a8f364-9c90-48a6-9937-8a826ed04275"
      },
      "execution_count": 59,
      "outputs": [
        {
          "output_type": "stream",
          "name": "stdout",
          "text": [
            "<class 'pandas.core.frame.DataFrame'>\n",
            "RangeIndex: 507 entries, 0 to 506\n",
            "Data columns (total 14 columns):\n",
            " #   Column               Non-Null Count  Dtype  \n",
            "---  ------               --------------  -----  \n",
            " 0   Brand                507 non-null    int64  \n",
            " 1   Model                507 non-null    int64  \n",
            " 2   Case Material        507 non-null    int64  \n",
            " 3   Strap Material       507 non-null    int64  \n",
            " 4   Movement Type        507 non-null    int64  \n",
            " 5   Water Resistance     507 non-null    int64  \n",
            " 6   Case Diameter (mm)   507 non-null    float64\n",
            " 7   Case Thickness (mm)  507 non-null    float64\n",
            " 8   Band Width (mm)      507 non-null    float64\n",
            " 9   Dial Color           507 non-null    int64  \n",
            " 10  Crystal Material     507 non-null    int64  \n",
            " 11  Complications        507 non-null    int64  \n",
            " 12  Power Reserve        507 non-null    int64  \n",
            " 13  Price (USD)          507 non-null    int64  \n",
            "dtypes: float64(3), int64(11)\n",
            "memory usage: 55.6 KB\n"
          ]
        }
      ]
    },
    {
      "cell_type": "code",
      "source": [
        "# Lectura de Datos\n",
        "X = data.iloc[:, :13]\n",
        "y = data.iloc[:, 13]\n",
        "m = y.size"
      ],
      "metadata": {
        "id": "YuuRUXgCwvZ_"
      },
      "execution_count": 61,
      "outputs": []
    },
    {
      "cell_type": "code",
      "source": [
        "print(X)\n",
        "print('*'*25)\n",
        "print(y)"
      ],
      "metadata": {
        "colab": {
          "base_uri": "https://localhost:8080/"
        },
        "id": "x1NBC6A6xFoC",
        "outputId": "f6f9c94a-6fd1-4a3a-a9bc-4ede9a2d8b90"
      },
      "execution_count": 62,
      "outputs": [
        {
          "output_type": "stream",
          "name": "stdout",
          "text": [
            "     Brand  Model  Case Material  Strap Material  Movement Type  \\\n",
            "0       29     85             13              11              0   \n",
            "1       23     80             14               9              0   \n",
            "2       33     16             13               5              0   \n",
            "3        7     59             13              11              0   \n",
            "4       10     89             13               5              3   \n",
            "..     ...    ...            ...             ...            ...   \n",
            "502      6     22              4               5              0   \n",
            "503      5     35             13               2              0   \n",
            "504     21     53             13               5              0   \n",
            "505     37     61             13              11              0   \n",
            "506     13     21             13               5              0   \n",
            "\n",
            "     Water Resistance  Case Diameter (mm)  Case Thickness (mm)  \\\n",
            "0                   7                40.0                13.00   \n",
            "1                  11                43.5                14.47   \n",
            "2                   0                41.0                13.00   \n",
            "3                   6                43.0                14.25   \n",
            "4                   6                31.0                 6.05   \n",
            "..                ...                 ...                  ...   \n",
            "502                 6                38.5                 8.25   \n",
            "503                 7                45.0                15.50   \n",
            "504                 6                38.5                 9.70   \n",
            "505                 3                41.5                11.00   \n",
            "506                 8                40.0                10.60   \n",
            "\n",
            "     Band Width (mm)  Dial Color  Crystal Material  Complications  \\\n",
            "0               20.0           0                 3              4   \n",
            "1               21.0           1                 3              4   \n",
            "2               20.0           6                 3              0   \n",
            "3               22.0           0                 3              0   \n",
            "4               20.0           5                 3             27   \n",
            "..               ...         ...               ...            ...   \n",
            "502             20.0           6                 3              4   \n",
            "503             23.0           0                 3              4   \n",
            "504             20.0           1                 3              4   \n",
            "505             22.0           1                 3              4   \n",
            "506             20.0           5                 3              4   \n",
            "\n",
            "     Power Reserve  \n",
            "0               13  \n",
            "1               18  \n",
            "2                8  \n",
            "3               22  \n",
            "4               25  \n",
            "..             ...  \n",
            "502              4  \n",
            "503              0  \n",
            "504             19  \n",
            "505              6  \n",
            "506              4  \n",
            "\n",
            "[507 rows x 13 columns]\n",
            "*************************\n",
            "0      175\n",
            "1      128\n",
            "2      104\n",
            "3      158\n",
            "4       53\n",
            "      ... \n",
            "502     61\n",
            "503     21\n",
            "504      7\n",
            "505     43\n",
            "506      1\n",
            "Name: Price (USD), Length: 507, dtype: int64\n"
          ]
        }
      ]
    },
    {
      "cell_type": "code",
      "source": [
        "def  featureNormalize(X):\n",
        "    X_norm = X.copy()\n",
        "    mu = np.zeros(X.shape[1])\n",
        "    sigma = np.zeros(X.shape[1])\n",
        "\n",
        "    mu = np.mean(X, axis = 0)\n",
        "    sigma = np.std(X, axis = 0)\n",
        "    X_norm = (X - mu) / sigma\n",
        "\n",
        "    return X_norm, mu, sigma"
      ],
      "metadata": {
        "id": "DrrFytt2gkI8"
      },
      "execution_count": 63,
      "outputs": []
    },
    {
      "cell_type": "code",
      "source": [
        "# llama featureNormalize con los datos cargados\n",
        "X_norm, mu, sigma = featureNormalize(X)\n",
        "\n",
        "print(X)\n",
        "print('Media calculada:', mu)\n",
        "print('Desviación estandar calculada:', sigma)\n",
        "print(X_norm)"
      ],
      "metadata": {
        "colab": {
          "base_uri": "https://localhost:8080/"
        },
        "id": "MhHhItqc4YLy",
        "outputId": "e99e9864-36c5-44f5-f6a0-be089d10920e"
      },
      "execution_count": 64,
      "outputs": [
        {
          "output_type": "stream",
          "name": "stdout",
          "text": [
            "     Brand  Model  Case Material  Strap Material  Movement Type  \\\n",
            "0       29     85             13              11              0   \n",
            "1       23     80             14               9              0   \n",
            "2       33     16             13               5              0   \n",
            "3        7     59             13              11              0   \n",
            "4       10     89             13               5              3   \n",
            "..     ...    ...            ...             ...            ...   \n",
            "502      6     22              4               5              0   \n",
            "503      5     35             13               2              0   \n",
            "504     21     53             13               5              0   \n",
            "505     37     61             13              11              0   \n",
            "506     13     21             13               5              0   \n",
            "\n",
            "     Water Resistance  Case Diameter (mm)  Case Thickness (mm)  \\\n",
            "0                   7                40.0                13.00   \n",
            "1                  11                43.5                14.47   \n",
            "2                   0                41.0                13.00   \n",
            "3                   6                43.0                14.25   \n",
            "4                   6                31.0                 6.05   \n",
            "..                ...                 ...                  ...   \n",
            "502                 6                38.5                 8.25   \n",
            "503                 7                45.0                15.50   \n",
            "504                 6                38.5                 9.70   \n",
            "505                 3                41.5                11.00   \n",
            "506                 8                40.0                10.60   \n",
            "\n",
            "     Band Width (mm)  Dial Color  Crystal Material  Complications  \\\n",
            "0               20.0           0                 3              4   \n",
            "1               21.0           1                 3              4   \n",
            "2               20.0           6                 3              0   \n",
            "3               22.0           0                 3              0   \n",
            "4               20.0           5                 3             27   \n",
            "..               ...         ...               ...            ...   \n",
            "502             20.0           6                 3              4   \n",
            "503             23.0           0                 3              4   \n",
            "504             20.0           1                 3              4   \n",
            "505             22.0           1                 3              4   \n",
            "506             20.0           5                 3              4   \n",
            "\n",
            "     Power Reserve  \n",
            "0               13  \n",
            "1               18  \n",
            "2                8  \n",
            "3               22  \n",
            "4               25  \n",
            "..             ...  \n",
            "502              4  \n",
            "503              0  \n",
            "504             19  \n",
            "505              6  \n",
            "506              4  \n",
            "\n",
            "[507 rows x 13 columns]\n",
            "Media calculada: Brand                  19.601578\n",
            "Model                  47.159763\n",
            "Case Material          12.408284\n",
            "Strap Material          7.489152\n",
            "Movement Type           0.276134\n",
            "Water Resistance        4.688363\n",
            "Case Diameter (mm)     41.046154\n",
            "Case Thickness (mm)    11.588343\n",
            "Band Width (mm)        21.105523\n",
            "Dial Color              1.840237\n",
            "Crystal Material        2.927022\n",
            "Complications          10.078895\n",
            "Power Reserve          14.015779\n",
            "dtype: float64\n",
            "Desviación estandar calculada: Brand                  11.298315\n",
            "Model                  23.989974\n",
            "Case Material           2.456921\n",
            "Strap Material          3.033895\n",
            "Movement Type           0.736939\n",
            "Water Resistance        3.268631\n",
            "Case Diameter (mm)      2.532838\n",
            "Case Thickness (mm)     2.489023\n",
            "Band Width (mm)         1.656738\n",
            "Dial Color              2.258475\n",
            "Crystal Material        0.392985\n",
            "Complications          10.628832\n",
            "Power Reserve           6.852615\n",
            "dtype: float64\n",
            "        Brand     Model  Case Material  Strap Material  Movement Type  \\\n",
            "0    0.831843  1.577335       0.240836        1.157208      -0.374704   \n",
            "1    0.300790  1.368915       0.647850        0.497990      -0.374704   \n",
            "2    1.185878 -1.298866       0.240836       -0.820448      -0.374704   \n",
            "3   -1.115350  0.493549       0.240836        1.157208      -0.374704   \n",
            "4   -0.849824  1.744072       0.240836       -0.820448       3.696188   \n",
            "..        ...       ...            ...             ...            ...   \n",
            "502 -1.203859 -1.048762      -3.422285       -0.820448      -0.374704   \n",
            "503 -1.292368 -0.506869       0.240836       -1.809276      -0.374704   \n",
            "504  0.123773  0.243445       0.240836       -0.820448      -0.374704   \n",
            "505  1.539913  0.576918       0.240836        1.157208      -0.374704   \n",
            "506 -0.584298 -1.090446       0.240836       -0.820448      -0.374704   \n",
            "\n",
            "     Water Resistance  Case Diameter (mm)  Case Thickness (mm)  \\\n",
            "0            0.707219           -0.413036             0.567153   \n",
            "1            1.930973            0.968813             1.157746   \n",
            "2           -1.434351           -0.018222             0.567153   \n",
            "3            0.401280            0.771406             1.069358   \n",
            "4            0.401280           -3.966363            -2.225108   \n",
            "..                ...                 ...                  ...   \n",
            "502          0.401280           -1.005257            -1.341227   \n",
            "503          0.707219            1.561034             1.571563   \n",
            "504          0.401280           -1.005257            -0.758669   \n",
            "505         -0.516535            0.179185            -0.236375   \n",
            "506          1.013157           -0.413036            -0.397081   \n",
            "\n",
            "     Band Width (mm)  Dial Color  Crystal Material  Complications  \\\n",
            "0          -0.667289   -0.814814          0.185702      -0.571925   \n",
            "1          -0.063693   -0.372037          0.185702      -0.571925   \n",
            "2          -0.667289    1.841846          0.185702      -0.948260   \n",
            "3           0.539903   -0.814814          0.185702      -0.948260   \n",
            "4          -0.667289    1.399070          0.185702       1.592000   \n",
            "..               ...         ...               ...            ...   \n",
            "502        -0.667289    1.841846          0.185702      -0.571925   \n",
            "503         1.143498   -0.814814          0.185702      -0.571925   \n",
            "504        -0.667289   -0.372037          0.185702      -0.571925   \n",
            "505         0.539903   -0.372037          0.185702      -0.571925   \n",
            "506        -0.667289    1.399070          0.185702      -0.571925   \n",
            "\n",
            "     Power Reserve  \n",
            "0        -0.148232  \n",
            "1         0.581416  \n",
            "2        -0.877881  \n",
            "3         1.165135  \n",
            "4         1.602924  \n",
            "..             ...  \n",
            "502      -1.461600  \n",
            "503      -2.045318  \n",
            "504       0.727346  \n",
            "505      -1.169740  \n",
            "506      -1.461600  \n",
            "\n",
            "[507 rows x 13 columns]\n"
          ]
        }
      ]
    },
    {
      "cell_type": "code",
      "source": [
        "# Añade el termino de interseccion a X\n",
        "# (Columna de unos para X0)\n",
        "X = np.concatenate([np.ones((m, 1)), X_norm], axis=1)"
      ],
      "metadata": {
        "id": "EB4cCmdm4bxJ"
      },
      "execution_count": 65,
      "outputs": []
    },
    {
      "cell_type": "code",
      "source": [
        "print(X)"
      ],
      "metadata": {
        "colab": {
          "base_uri": "https://localhost:8080/"
        },
        "id": "jxdWrQDC4fcD",
        "outputId": "9cd76342-c578-4c07-8a1d-8c73990a9d55"
      },
      "execution_count": 66,
      "outputs": [
        {
          "output_type": "stream",
          "name": "stdout",
          "text": [
            "[[ 1.          0.83184285  1.57733546 ...  0.18570235 -0.57192504\n",
            "  -0.14823233]\n",
            " [ 1.          0.30079018  1.36891506 ...  0.18570235 -0.57192504\n",
            "   0.58141614]\n",
            " [ 1.          1.18587795 -1.29886607 ...  0.18570235 -0.94825989\n",
            "  -0.87788081]\n",
            " ...\n",
            " [ 1.          0.12377263  0.24344489 ...  0.18570235 -0.57192504\n",
            "   0.72734584]\n",
            " [ 1.          1.53991306  0.57691753 ...  0.18570235 -0.57192504\n",
            "  -1.1697402 ]\n",
            " [ 1.         -0.58429759 -1.09044567 ...  0.18570235 -0.57192504\n",
            "  -1.46159959]]\n"
          ]
        }
      ]
    },
    {
      "cell_type": "code",
      "source": [
        "def computeCostMulti(X, y, theta):\n",
        "    # Inicializa algunos valores utiles\n",
        "    m = y.shape[0] # numero de ejemplos de entrenamiento\n",
        "\n",
        "    J = 0\n",
        "\n",
        "    h = np.dot(X, theta)\n",
        "\n",
        "    J = (1/(2 * m)) * np.sum(np.square(np.dot(X, theta) - y))\n",
        "\n",
        "    return J\n"
      ],
      "metadata": {
        "id": "is_NER384kX5"
      },
      "execution_count": 67,
      "outputs": []
    },
    {
      "cell_type": "code",
      "source": [
        "def gradientDescentMulti(X, y, theta, alpha, num_iters):\n",
        "\n",
        "    # Inicializa algunos valores\n",
        "    m = y.shape[0] # numero de ejemplos de entrenamiento\n",
        "\n",
        "    # realiza una copia de theta, el cual será acutalizada por el descenso por el gradiente\n",
        "    theta = theta.copy()\n",
        "\n",
        "    J_history = []\n",
        "\n",
        "    for i in range(num_iters):\n",
        "        theta = theta - (alpha / m) * (np.dot(X, theta) - y).dot(X)\n",
        "        J_history.append(computeCostMulti(X, y, theta))\n",
        "\n",
        "    return theta, J_history"
      ],
      "metadata": {
        "id": "NTic99Il4k9H"
      },
      "execution_count": 68,
      "outputs": []
    },
    {
      "cell_type": "code",
      "source": [
        "# Elegir algun valor para alpha (probar varias alternativas)\n",
        "alpha = 0.001\n",
        "num_iters = 5000\n",
        "\n",
        "# inicializa theta y ejecuta el descenso por el gradiente\n",
        "theta = np.zeros(14)\n",
        "theta, J_history = gradientDescentMulti(X, y, theta, alpha, num_iters)\n",
        "\n",
        "# Grafica la convergencia del costo\n",
        "pyplot.plot(np.arange(len(J_history)), J_history, lw=2)\n",
        "pyplot.xlabel('Numero de iteraciones')\n",
        "pyplot.ylabel('Costo J')\n",
        "\n",
        "# Muestra los resultados del descenso por el gradiente\n",
        "print('theta calculado por el descenso por el gradiente: {:s}'.format(str(theta)))\n",
        "\n",
        "# Estimar el precio para relojes de lujo con distintas caracteristicas\n",
        "X_array = [1, 2, 130, 32, 1, 17, 1.48, 29, 4, 12, 0, 1, 1, 1]\n",
        "X_array[1:14] = (X_array[1:14] - mu) / sigma\n",
        "price = np.dot(X_array, theta)   # Se debe cambiar esto\n",
        "\n",
        "print('El valor predecido es (usando el descenso por el gradiente): {:.4f}'.format(price))"
      ],
      "metadata": {
        "colab": {
          "base_uri": "https://localhost:8080/",
          "height": 518
        },
        "id": "2sc2AmKF4qJQ",
        "outputId": "2438f4ea-ca6b-42d5-e6d2-b2aceb20c6c3"
      },
      "execution_count": 76,
      "outputs": [
        {
          "output_type": "stream",
          "name": "stdout",
          "text": [
            "theta calculado por el descenso por el gradiente: [97.62932313 10.66449976 11.50194806  8.20045886 -3.58585221 -6.12561869\n",
            " -4.88625846 -1.86443594 11.07385351 -1.94513142  8.52417784  0.75764642\n",
            "  5.90079334 10.98112755]\n",
            "El valor predecido es (usando el descenso por el gradiente): 8.8152\n"
          ]
        },
        {
          "output_type": "display_data",
          "data": {
            "text/plain": [
              "<Figure size 640x480 with 1 Axes>"
            ],
            "image/png": "[encoded data removed]"
          },
          "metadata": {}
        }
      ]
    },
    {
      "cell_type": "code",
      "source": [
        "X_array = [1, 2, 130, 32, 1, 17, 1.48, 29, 4, 12, 0, 1, 1, 1]\n",
        "X_array[1:14] = (X_array[1:14] - mu) / sigma"
      ],
      "metadata": {
        "id": "pHpGapUtf4QP"
      },
      "execution_count": 77,
      "outputs": []
    },
    {
      "cell_type": "code",
      "source": [
        "X_array[1:13]"
      ],
      "metadata": {
        "colab": {
          "base_uri": "https://localhost:8080/"
        },
        "id": "c_fhRmzof56K",
        "outputId": "ceb85157-d59b-40bf-920b-f4f74a4d5044"
      },
      "execution_count": null,
      "outputs": [
        {
          "output_type": "execute_result",
          "data": {
            "text/plain": [
              "[-1.2439419470989352,\n",
              " 1.5689754318326286,\n",
              " 0.9792781840162572,\n",
              " -0.3771728032399776,\n",
              " 1.0932811569154612,\n",
              " 0.5363648088121512,\n",
              " 0.7473047451998474,\n",
              " -0.594821513259398,\n",
              " 0.19811839457082608,\n",
              " -0.05143444998736397,\n",
              " 0.2776677449836892,\n",
              " 0.42535009791885303]"
            ]
          },
          "metadata": {},
          "execution_count": 32
        }
      ]
    },
    {
      "cell_type": "code",
      "source": [
        "def normalEqn(X, y):\n",
        "\n",
        "    theta = np.zeros(X.shape[1])\n",
        "\n",
        "    theta = np.dot(np.dot(np.linalg.inv(np.dot(X.T,X)),X.T),y)\n",
        "\n",
        "    return theta"
      ],
      "metadata": {
        "id": "_MMoIdODf9FN"
      },
      "execution_count": 78,
      "outputs": []
    },
    {
      "cell_type": "code",
      "source": [
        "# Calcula los parametros con la ecuación de la normal\n",
        "theta = normalEqn(X, y);\n",
        "\n",
        "# Muestra los resultados optenidos a partir de la aplicación de la ecuación de la normal\n",
        "print('Theta calculado a partir de la ecuación de la normal: {:s}'.format(str(theta)));\n",
        "\n",
        "# Estimar el precio para una casa de superficie de 1650 sq-ft y tres dormitorios\n",
        "\n",
        "X_array = [1, 2, 130, 32, 1, 17, 1.48, 29, 4, 12, 0, 1, 1, 1]\n",
        "price = np.dot(X_array, theta)\n",
        "\n",
        "print('Precio predecido para precios de relojes de lujo (usando la ecuación de la normal): ${:.0f}'.format(price))"
      ],
      "metadata": {
        "colab": {
          "base_uri": "https://localhost:8080/"
        },
        "id": "E7px4OMrf9un",
        "outputId": "e777d67c-0dd4-4ca1-c344-6b3164ddf699"
      },
      "execution_count": 80,
      "outputs": [
        {
          "output_type": "stream",
          "name": "stdout",
          "text": [
            "Theta calculado a partir de la ecuación de la normal: [98.28994083 10.70486077 12.39066258  7.81463982 -2.76615075 -6.37146179\n",
            " -5.13600663 -2.49974793 13.27612728 -2.16146789  9.55017275  1.19140091\n",
            "  7.08144086 10.83889199]\n",
            "Precio predecido para una cada de superficie de 1650 sq-ft y 3 dormitorios (usando la ecuación de la normal): $1836\n"
          ]
        }
      ]
    }
  ]
}