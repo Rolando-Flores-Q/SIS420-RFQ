{
  "nbformat": 4,
  "nbformat_minor": 0,
  "metadata": {
    "colab": {
      "provenance": []
    },
    "kernelspec": {
      "name": "python3",
      "display_name": "Python 3"
    },
    "language_info": {
      "name": "python"
    }
  },
  "cells": [
    {
      "cell_type": "code",
      "source": [
        "from google.colab import drive\n",
        "drive.mount('/content/drive')"
      ],
      "metadata": {
        "colab": {
          "base_uri": "https://localhost:8080/"
        },
        "id": "E6aioN2WxvGO",
        "outputId": "9d23a6d5-d845-4a52-8999-80055886e3e3"
      },
      "execution_count": 55,
      "outputs": [
        {
          "output_type": "stream",
          "name": "stdout",
          "text": [
            "Drive already mounted at /content/drive; to attempt to forcibly remount, call drive.mount(\"/content/drive\", force_remount=True).\n"
          ]
        }
      ]
    },
    {
      "cell_type": "code",
      "execution_count": 56,
      "metadata": {
        "id": "bnkrQCi2aJqA"
      },
      "outputs": [],
      "source": [
        "import pandas as pd\n",
        "from sklearn.preprocessing import LabelEncoder\n",
        "from datetime import datetime\n",
        "from sklearn.model_selection import train_test_split"
      ]
    },
    {
      "cell_type": "code",
      "source": [
        "# se utiliza para el manejo de rutas y directorios.\n",
        "import os\n",
        "\n",
        "# Calculo cientifico y vectorial para python\n",
        "import numpy as np\n",
        "\n",
        "# Librerias para graficar\n",
        "from matplotlib import pyplot\n",
        "\n",
        "# Modulo de optimización de scipy\n",
        "from scipy import optimize\n",
        "\n",
        "# le dice a matplotlib que incruste gráficos en el cuaderno\n",
        "%matplotlib inline"
      ],
      "metadata": {
        "id": "FRno4KBnxr3A"
      },
      "execution_count": 57,
      "outputs": []
    },
    {
      "cell_type": "code",
      "source": [
        "#Carga de DataSet\n",
        "data= pd.read_csv(\"/content/drive/MyDrive/SIS420-IA/DATASET/breast_cancer.csv\")"
      ],
      "metadata": {
        "id": "tDXc1lMMy7N3"
      },
      "execution_count": 58,
      "outputs": []
    },
    {
      "cell_type": "code",
      "source": [
        "print(data)"
      ],
      "metadata": {
        "colab": {
          "base_uri": "https://localhost:8080/"
        },
        "id": "5zRH5NwW1G_B",
        "outputId": "4e1276f1-58cf-4a75-f786-2c08c6dc8849"
      },
      "execution_count": 59,
      "outputs": [
        {
          "output_type": "stream",
          "name": "stdout",
          "text": [
            "     Clump Thickness  Uniformity of Cell Size  Uniformity of Cell Shape  \\\n",
            "0                  5                        1                         1   \n",
            "1                  5                        4                         4   \n",
            "2                  3                        1                         1   \n",
            "3                  6                        8                         8   \n",
            "4                  4                        1                         1   \n",
            "..               ...                      ...                       ...   \n",
            "678                3                        1                         1   \n",
            "679                2                        1                         1   \n",
            "680                5                       10                        10   \n",
            "681                4                        8                         6   \n",
            "682                4                        8                         8   \n",
            "\n",
            "     Marginal Adhesion  Single Epithelial Cell Size  Bare Nuclei  \\\n",
            "0                    1                            2            1   \n",
            "1                    5                            7           10   \n",
            "2                    1                            2            2   \n",
            "3                    1                            3            4   \n",
            "4                    3                            2            1   \n",
            "..                 ...                          ...          ...   \n",
            "678                  1                            3            2   \n",
            "679                  1                            2            1   \n",
            "680                  3                            7            3   \n",
            "681                  4                            3            4   \n",
            "682                  5                            4            5   \n",
            "\n",
            "     Bland Chromatin  Normal Nucleoli  Mitoses  Class  \n",
            "0                  3                1        1      2  \n",
            "1                  3                2        1      2  \n",
            "2                  3                1        1      2  \n",
            "3                  3                7        1      2  \n",
            "4                  3                1        1      2  \n",
            "..               ...              ...      ...    ...  \n",
            "678                1                1        1      2  \n",
            "679                1                1        1      2  \n",
            "680                8               10        2      4  \n",
            "681               10                6        1      4  \n",
            "682               10                4        1      4  \n",
            "\n",
            "[683 rows x 10 columns]\n"
          ]
        }
      ]
    },
    {
      "cell_type": "code",
      "source": [
        "data.info()"
      ],
      "metadata": {
        "colab": {
          "base_uri": "https://localhost:8080/"
        },
        "id": "ZGPDjTjF1PnI",
        "outputId": "3dc77d02-533f-4315-f631-6667fb37b9d5"
      },
      "execution_count": 60,
      "outputs": [
        {
          "output_type": "stream",
          "name": "stdout",
          "text": [
            "<class 'pandas.core.frame.DataFrame'>\n",
            "RangeIndex: 683 entries, 0 to 682\n",
            "Data columns (total 10 columns):\n",
            " #   Column                       Non-Null Count  Dtype\n",
            "---  ------                       --------------  -----\n",
            " 0   Clump Thickness              683 non-null    int64\n",
            " 1   Uniformity of Cell Size      683 non-null    int64\n",
            " 2   Uniformity of Cell Shape     683 non-null    int64\n",
            " 3   Marginal Adhesion            683 non-null    int64\n",
            " 4   Single Epithelial Cell Size  683 non-null    int64\n",
            " 5   Bare Nuclei                  683 non-null    int64\n",
            " 6   Bland Chromatin              683 non-null    int64\n",
            " 7   Normal Nucleoli              683 non-null    int64\n",
            " 8   Mitoses                      683 non-null    int64\n",
            " 9   Class                        683 non-null    int64\n",
            "dtypes: int64(10)\n",
            "memory usage: 53.5 KB\n"
          ]
        }
      ]
    },
    {
      "cell_type": "code",
      "source": [
        "# Crear una nueva columna 'Class_binaria' basada en la transformación\n",
        "data['Class_binaria'] = data['Class'].apply(lambda x: 0 if x == 2 else 1)\n",
        "\n",
        "# Ahora, 'Class_binaria' contiene los valores convertidos (0 y 1)\n",
        "print(data)"
      ],
      "metadata": {
        "colab": {
          "base_uri": "https://localhost:8080/"
        },
        "id": "reLXexh11dmo",
        "outputId": "9a84b733-469a-417d-c2e5-ecb29928cced"
      },
      "execution_count": 61,
      "outputs": [
        {
          "output_type": "stream",
          "name": "stdout",
          "text": [
            "     Clump Thickness  Uniformity of Cell Size  Uniformity of Cell Shape  \\\n",
            "0                  5                        1                         1   \n",
            "1                  5                        4                         4   \n",
            "2                  3                        1                         1   \n",
            "3                  6                        8                         8   \n",
            "4                  4                        1                         1   \n",
            "..               ...                      ...                       ...   \n",
            "678                3                        1                         1   \n",
            "679                2                        1                         1   \n",
            "680                5                       10                        10   \n",
            "681                4                        8                         6   \n",
            "682                4                        8                         8   \n",
            "\n",
            "     Marginal Adhesion  Single Epithelial Cell Size  Bare Nuclei  \\\n",
            "0                    1                            2            1   \n",
            "1                    5                            7           10   \n",
            "2                    1                            2            2   \n",
            "3                    1                            3            4   \n",
            "4                    3                            2            1   \n",
            "..                 ...                          ...          ...   \n",
            "678                  1                            3            2   \n",
            "679                  1                            2            1   \n",
            "680                  3                            7            3   \n",
            "681                  4                            3            4   \n",
            "682                  5                            4            5   \n",
            "\n",
            "     Bland Chromatin  Normal Nucleoli  Mitoses  Class  Class_binaria  \n",
            "0                  3                1        1      2              0  \n",
            "1                  3                2        1      2              0  \n",
            "2                  3                1        1      2              0  \n",
            "3                  3                7        1      2              0  \n",
            "4                  3                1        1      2              0  \n",
            "..               ...              ...      ...    ...            ...  \n",
            "678                1                1        1      2              0  \n",
            "679                1                1        1      2              0  \n",
            "680                8               10        2      4              1  \n",
            "681               10                6        1      4              1  \n",
            "682               10                4        1      4              1  \n",
            "\n",
            "[683 rows x 11 columns]\n"
          ]
        }
      ]
    },
    {
      "cell_type": "code",
      "source": [
        "# Eliminar columnas innecesarias\n",
        "columna_eliminar=['Class']\n",
        "data = data.drop(columna_eliminar, axis=1)"
      ],
      "metadata": {
        "id": "773rv5fh6IXZ"
      },
      "execution_count": 62,
      "outputs": []
    },
    {
      "cell_type": "code",
      "source": [
        "data.info()"
      ],
      "metadata": {
        "colab": {
          "base_uri": "https://localhost:8080/"
        },
        "id": "xjB-tynx6C8x",
        "outputId": "adfb0898-63ab-44c3-936f-bb1f1699f5c9"
      },
      "execution_count": 63,
      "outputs": [
        {
          "output_type": "stream",
          "name": "stdout",
          "text": [
            "<class 'pandas.core.frame.DataFrame'>\n",
            "RangeIndex: 683 entries, 0 to 682\n",
            "Data columns (total 10 columns):\n",
            " #   Column                       Non-Null Count  Dtype\n",
            "---  ------                       --------------  -----\n",
            " 0   Clump Thickness              683 non-null    int64\n",
            " 1   Uniformity of Cell Size      683 non-null    int64\n",
            " 2   Uniformity of Cell Shape     683 non-null    int64\n",
            " 3   Marginal Adhesion            683 non-null    int64\n",
            " 4   Single Epithelial Cell Size  683 non-null    int64\n",
            " 5   Bare Nuclei                  683 non-null    int64\n",
            " 6   Bland Chromatin              683 non-null    int64\n",
            " 7   Normal Nucleoli              683 non-null    int64\n",
            " 8   Mitoses                      683 non-null    int64\n",
            " 9   Class_binaria                683 non-null    int64\n",
            "dtypes: int64(10)\n",
            "memory usage: 53.5 KB\n"
          ]
        }
      ]
    },
    {
      "cell_type": "code",
      "source": [
        "# Division de dataset en entrenamiento y prueba\n",
        "train_data, test_data = train_test_split(data, test_size=0.2, random_state=42)"
      ],
      "metadata": {
        "id": "EmESWLqI6eGA"
      },
      "execution_count": 64,
      "outputs": []
    },
    {
      "cell_type": "code",
      "source": [
        "print(train_data)"
      ],
      "metadata": {
        "colab": {
          "base_uri": "https://localhost:8080/"
        },
        "id": "IracK24L6k6I",
        "outputId": "cd5f71f8-4d54-4b59-8761-83d5ad30409f"
      },
      "execution_count": 65,
      "outputs": [
        {
          "output_type": "stream",
          "name": "stdout",
          "text": [
            "     Clump Thickness  Uniformity of Cell Size  Uniformity of Cell Shape  \\\n",
            "437                3                        1                         1   \n",
            "256                7                        9                         4   \n",
            "584                5                        2                         4   \n",
            "18                10                        7                         7   \n",
            "350                2                        1                         1   \n",
            "..               ...                      ...                       ...   \n",
            "71                 9                        4                         5   \n",
            "106                1                        1                         1   \n",
            "270               10                        5                         7   \n",
            "435                4                        1                         1   \n",
            "102               10                       10                        10   \n",
            "\n",
            "     Marginal Adhesion  Single Epithelial Cell Size  Bare Nuclei  \\\n",
            "437                  3                            2            1   \n",
            "256                 10                           10            3   \n",
            "584                  1                            1            1   \n",
            "18                   6                            4           10   \n",
            "350                  1                            2            1   \n",
            "..                 ...                          ...          ...   \n",
            "71                  10                            6           10   \n",
            "106                  1                            2            1   \n",
            "270                  3                            3            7   \n",
            "435                  3                            1            1   \n",
            "102                 10                           10            1   \n",
            "\n",
            "     Bland Chromatin  Normal Nucleoli  Mitoses  Class_binaria  \n",
            "437                1                1        1              0  \n",
            "256                5                3        3              1  \n",
            "584                1                1        1              0  \n",
            "18                 4                1        2              1  \n",
            "350                3                1        1              0  \n",
            "..               ...              ...      ...            ...  \n",
            "71                 4                8        1              1  \n",
            "106                2                3        1              0  \n",
            "270                3                3        8              1  \n",
            "435                2                1        1              0  \n",
            "102                8                8        8              1  \n",
            "\n",
            "[546 rows x 10 columns]\n"
          ]
        }
      ]
    },
    {
      "cell_type": "code",
      "source": [
        "print(test_data)"
      ],
      "metadata": {
        "colab": {
          "base_uri": "https://localhost:8080/"
        },
        "id": "87-zPbNC7Ig6",
        "outputId": "2ef2ed55-a9ee-453f-a379-cec8e96bae56"
      },
      "execution_count": 66,
      "outputs": [
        {
          "output_type": "stream",
          "name": "stdout",
          "text": [
            "     Clump Thickness  Uniformity of Cell Size  Uniformity of Cell Shape  \\\n",
            "292                8                        3                         4   \n",
            "145                8                        8                         7   \n",
            "211                1                        1                         1   \n",
            "118                1                        1                         2   \n",
            "302                1                        1                         1   \n",
            "..               ...                      ...                       ...   \n",
            "110               10                        3                         3   \n",
            "82                 3                        5                         7   \n",
            "51                 5                        5                         5   \n",
            "210                1                        1                         1   \n",
            "548                3                        1                         1   \n",
            "\n",
            "     Marginal Adhesion  Single Epithelial Cell Size  Bare Nuclei  \\\n",
            "292                  9                            3           10   \n",
            "145                  4                           10           10   \n",
            "211                  1                            2            1   \n",
            "118                  2                            2            1   \n",
            "302                  1                            1            1   \n",
            "..                 ...                          ...          ...   \n",
            "110                 10                            2           10   \n",
            "82                   8                            8            9   \n",
            "51                   8                           10            8   \n",
            "210                  1                            2            1   \n",
            "548                  1                            2            1   \n",
            "\n",
            "     Bland Chromatin  Normal Nucleoli  Mitoses  Class_binaria  \n",
            "292                3                3        1              1  \n",
            "145                7                8        7              1  \n",
            "211                3                1        1              0  \n",
            "118                3                1        1              0  \n",
            "302                2                1        1              0  \n",
            "..               ...              ...      ...            ...  \n",
            "110                7                3        3              1  \n",
            "82                 7               10        7              1  \n",
            "51                 7                3        7              1  \n",
            "210                2                1        1              0  \n",
            "548                2                1        1              0  \n",
            "\n",
            "[137 rows x 10 columns]\n"
          ]
        }
      ]
    },
    {
      "cell_type": "code",
      "source": [
        "train_data.info()"
      ],
      "metadata": {
        "colab": {
          "base_uri": "https://localhost:8080/"
        },
        "id": "3jeYJvf77PNH",
        "outputId": "247c43cc-d0e3-4202-a4db-ac73eedfba92"
      },
      "execution_count": 67,
      "outputs": [
        {
          "output_type": "stream",
          "name": "stdout",
          "text": [
            "<class 'pandas.core.frame.DataFrame'>\n",
            "Int64Index: 546 entries, 437 to 102\n",
            "Data columns (total 10 columns):\n",
            " #   Column                       Non-Null Count  Dtype\n",
            "---  ------                       --------------  -----\n",
            " 0   Clump Thickness              546 non-null    int64\n",
            " 1   Uniformity of Cell Size      546 non-null    int64\n",
            " 2   Uniformity of Cell Shape     546 non-null    int64\n",
            " 3   Marginal Adhesion            546 non-null    int64\n",
            " 4   Single Epithelial Cell Size  546 non-null    int64\n",
            " 5   Bare Nuclei                  546 non-null    int64\n",
            " 6   Bland Chromatin              546 non-null    int64\n",
            " 7   Normal Nucleoli              546 non-null    int64\n",
            " 8   Mitoses                      546 non-null    int64\n",
            " 9   Class_binaria                546 non-null    int64\n",
            "dtypes: int64(10)\n",
            "memory usage: 46.9 KB\n"
          ]
        }
      ]
    },
    {
      "cell_type": "code",
      "source": [
        "test_data.info()"
      ],
      "metadata": {
        "colab": {
          "base_uri": "https://localhost:8080/"
        },
        "id": "145_e9G67S4Y",
        "outputId": "4c0b1a1f-e31a-4e07-bd85-8e3ede3a08c4"
      },
      "execution_count": 68,
      "outputs": [
        {
          "output_type": "stream",
          "name": "stdout",
          "text": [
            "<class 'pandas.core.frame.DataFrame'>\n",
            "Int64Index: 137 entries, 292 to 548\n",
            "Data columns (total 10 columns):\n",
            " #   Column                       Non-Null Count  Dtype\n",
            "---  ------                       --------------  -----\n",
            " 0   Clump Thickness              137 non-null    int64\n",
            " 1   Uniformity of Cell Size      137 non-null    int64\n",
            " 2   Uniformity of Cell Shape     137 non-null    int64\n",
            " 3   Marginal Adhesion            137 non-null    int64\n",
            " 4   Single Epithelial Cell Size  137 non-null    int64\n",
            " 5   Bare Nuclei                  137 non-null    int64\n",
            " 6   Bland Chromatin              137 non-null    int64\n",
            " 7   Normal Nucleoli              137 non-null    int64\n",
            " 8   Mitoses                      137 non-null    int64\n",
            " 9   Class_binaria                137 non-null    int64\n",
            "dtypes: int64(10)\n",
            "memory usage: 11.8 KB\n"
          ]
        }
      ]
    },
    {
      "cell_type": "code",
      "source": [
        "train_data.to_csv(\"entrenamiento.csv\", index=False)"
      ],
      "metadata": {
        "id": "gwdEGqCx7aMI"
      },
      "execution_count": 69,
      "outputs": []
    },
    {
      "cell_type": "code",
      "source": [
        "test_data.to_csv(\"prueba.csv\", index=False)"
      ],
      "metadata": {
        "id": "01lUj_8B7c8_"
      },
      "execution_count": 70,
      "outputs": []
    },
    {
      "cell_type": "code",
      "source": [
        "#Carga de dataset\n",
        "data = pd.read_csv('/content/entrenamiento.csv')"
      ],
      "metadata": {
        "id": "9zOQEcbG7fbu"
      },
      "execution_count": 71,
      "outputs": []
    },
    {
      "cell_type": "code",
      "source": [
        "train_data.info()"
      ],
      "metadata": {
        "colab": {
          "base_uri": "https://localhost:8080/"
        },
        "id": "nUCcR9kY7hQn",
        "outputId": "eb9cf375-224c-4615-92ee-be073bf7bde1"
      },
      "execution_count": 72,
      "outputs": [
        {
          "output_type": "stream",
          "name": "stdout",
          "text": [
            "<class 'pandas.core.frame.DataFrame'>\n",
            "Int64Index: 546 entries, 437 to 102\n",
            "Data columns (total 10 columns):\n",
            " #   Column                       Non-Null Count  Dtype\n",
            "---  ------                       --------------  -----\n",
            " 0   Clump Thickness              546 non-null    int64\n",
            " 1   Uniformity of Cell Size      546 non-null    int64\n",
            " 2   Uniformity of Cell Shape     546 non-null    int64\n",
            " 3   Marginal Adhesion            546 non-null    int64\n",
            " 4   Single Epithelial Cell Size  546 non-null    int64\n",
            " 5   Bare Nuclei                  546 non-null    int64\n",
            " 6   Bland Chromatin              546 non-null    int64\n",
            " 7   Normal Nucleoli              546 non-null    int64\n",
            " 8   Mitoses                      546 non-null    int64\n",
            " 9   Class_binaria                546 non-null    int64\n",
            "dtypes: int64(10)\n",
            "memory usage: 46.9 KB\n"
          ]
        }
      ]
    },
    {
      "cell_type": "code",
      "source": [
        "X = data.iloc[:, :9]\n",
        "y = data.iloc[:, 9]\n",
        "m = y.size"
      ],
      "metadata": {
        "id": "SHHCZCTZ7j75"
      },
      "execution_count": 73,
      "outputs": []
    },
    {
      "cell_type": "code",
      "source": [
        "print(X)\n",
        "print('*'*25)\n",
        "print(y)"
      ],
      "metadata": {
        "colab": {
          "base_uri": "https://localhost:8080/"
        },
        "id": "JAz5slVp7oir",
        "outputId": "1a4b9a9e-4855-4f75-83ce-87595b6cb049"
      },
      "execution_count": 74,
      "outputs": [
        {
          "output_type": "stream",
          "name": "stdout",
          "text": [
            "     Clump Thickness  Uniformity of Cell Size  Uniformity of Cell Shape  \\\n",
            "0                  3                        1                         1   \n",
            "1                  7                        9                         4   \n",
            "2                  5                        2                         4   \n",
            "3                 10                        7                         7   \n",
            "4                  2                        1                         1   \n",
            "..               ...                      ...                       ...   \n",
            "541                9                        4                         5   \n",
            "542                1                        1                         1   \n",
            "543               10                        5                         7   \n",
            "544                4                        1                         1   \n",
            "545               10                       10                        10   \n",
            "\n",
            "     Marginal Adhesion  Single Epithelial Cell Size  Bare Nuclei  \\\n",
            "0                    3                            2            1   \n",
            "1                   10                           10            3   \n",
            "2                    1                            1            1   \n",
            "3                    6                            4           10   \n",
            "4                    1                            2            1   \n",
            "..                 ...                          ...          ...   \n",
            "541                 10                            6           10   \n",
            "542                  1                            2            1   \n",
            "543                  3                            3            7   \n",
            "544                  3                            1            1   \n",
            "545                 10                           10            1   \n",
            "\n",
            "     Bland Chromatin  Normal Nucleoli  Mitoses  \n",
            "0                  1                1        1  \n",
            "1                  5                3        3  \n",
            "2                  1                1        1  \n",
            "3                  4                1        2  \n",
            "4                  3                1        1  \n",
            "..               ...              ...      ...  \n",
            "541                4                8        1  \n",
            "542                2                3        1  \n",
            "543                3                3        8  \n",
            "544                2                1        1  \n",
            "545                8                8        8  \n",
            "\n",
            "[546 rows x 9 columns]\n",
            "*************************\n",
            "0      0\n",
            "1      1\n",
            "2      0\n",
            "3      1\n",
            "4      0\n",
            "      ..\n",
            "541    1\n",
            "542    0\n",
            "543    1\n",
            "544    0\n",
            "545    1\n",
            "Name: Class_binaria, Length: 546, dtype: int64\n"
          ]
        }
      ]
    },
    {
      "cell_type": "code",
      "source": [
        "def  featureNormalize(X):\n",
        "    X_norm = X.copy()\n",
        "    mu = np.zeros(X.shape[1])\n",
        "    sigma = np.zeros(X.shape[1])\n",
        "\n",
        "    mu = np.mean(X, axis = 0)\n",
        "    sigma = np.std(X, axis = 0)\n",
        "    X_norm = (X - mu) / sigma\n",
        "\n",
        "    return X_norm, mu, sigma\n"
      ],
      "metadata": {
        "id": "MPZabiBM7ttP"
      },
      "execution_count": 75,
      "outputs": []
    },
    {
      "cell_type": "code",
      "source": [
        "# llama featureNormalize con los datos cargados\n",
        "X_norm, mu, sigma = featureNormalize(X)\n",
        "\n",
        "print(X)\n",
        "print('Media calculada:', mu)\n",
        "print('Desviación estandar calculada:', sigma)\n",
        "print(X_norm)"
      ],
      "metadata": {
        "colab": {
          "base_uri": "https://localhost:8080/"
        },
        "id": "55xVRuzm7xkI",
        "outputId": "54ca30c6-f19c-406a-ddca-ae8288a9e55f"
      },
      "execution_count": 76,
      "outputs": [
        {
          "output_type": "stream",
          "name": "stdout",
          "text": [
            "     Clump Thickness  Uniformity of Cell Size  Uniformity of Cell Shape  \\\n",
            "0                  3                        1                         1   \n",
            "1                  7                        9                         4   \n",
            "2                  5                        2                         4   \n",
            "3                 10                        7                         7   \n",
            "4                  2                        1                         1   \n",
            "..               ...                      ...                       ...   \n",
            "541                9                        4                         5   \n",
            "542                1                        1                         1   \n",
            "543               10                        5                         7   \n",
            "544                4                        1                         1   \n",
            "545               10                       10                        10   \n",
            "\n",
            "     Marginal Adhesion  Single Epithelial Cell Size  Bare Nuclei  \\\n",
            "0                    3                            2            1   \n",
            "1                   10                           10            3   \n",
            "2                    1                            1            1   \n",
            "3                    6                            4           10   \n",
            "4                    1                            2            1   \n",
            "..                 ...                          ...          ...   \n",
            "541                 10                            6           10   \n",
            "542                  1                            2            1   \n",
            "543                  3                            3            7   \n",
            "544                  3                            1            1   \n",
            "545                 10                           10            1   \n",
            "\n",
            "     Bland Chromatin  Normal Nucleoli  Mitoses  \n",
            "0                  1                1        1  \n",
            "1                  5                3        3  \n",
            "2                  1                1        1  \n",
            "3                  4                1        2  \n",
            "4                  3                1        1  \n",
            "..               ...              ...      ...  \n",
            "541                4                8        1  \n",
            "542                2                3        1  \n",
            "543                3                3        8  \n",
            "544                2                1        1  \n",
            "545                8                8        8  \n",
            "\n",
            "[546 rows x 9 columns]\n",
            "Media calculada: Clump Thickness                4.415751\n",
            "Uniformity of Cell Size        3.106227\n",
            "Uniformity of Cell Shape       3.212454\n",
            "Marginal Adhesion              2.824176\n",
            "Single Epithelial Cell Size    3.184982\n",
            "Bare Nuclei                    3.468864\n",
            "Bland Chromatin                3.315018\n",
            "Normal Nucleoli                2.752747\n",
            "Mitoses                        1.553114\n",
            "dtype: float64\n",
            "Desviación estandar calculada: Clump Thickness                2.759806\n",
            "Uniformity of Cell Size        3.053203\n",
            "Uniformity of Cell Shape       3.032593\n",
            "Marginal Adhesion              2.855212\n",
            "Single Epithelial Cell Size    2.177271\n",
            "Bare Nuclei                    3.627321\n",
            "Bland Chromatin                2.381175\n",
            "Normal Nucleoli                2.946911\n",
            "Mitoses                        1.631287\n",
            "dtype: float64\n",
            "     Clump Thickness  Uniformity of Cell Size  Uniformity of Cell Shape  \\\n",
            "0          -0.512989                -0.689842                 -0.729559   \n",
            "1           0.936388                 1.930357                  0.259694   \n",
            "2           0.211699                -0.362317                  0.259694   \n",
            "3           2.023421                 1.275308                  1.248946   \n",
            "4          -0.875334                -0.689842                 -0.729559   \n",
            "..               ...                      ...                       ...   \n",
            "541         1.661077                 0.292733                  0.589445   \n",
            "542        -1.237678                -0.689842                 -0.729559   \n",
            "543         2.023421                 0.620258                  1.248946   \n",
            "544        -0.150645                -0.689842                 -0.729559   \n",
            "545         2.023421                 2.257882                  2.238199   \n",
            "\n",
            "     Marginal Adhesion  Single Epithelial Cell Size  Bare Nuclei  \\\n",
            "0             0.061580                    -0.544251    -0.680630   \n",
            "1             2.513237                     3.130074    -0.129259   \n",
            "2            -0.638893                    -1.003542    -0.680630   \n",
            "3             1.112290                     0.374330     1.800540   \n",
            "4            -0.638893                    -0.544251    -0.680630   \n",
            "..                 ...                          ...          ...   \n",
            "541           2.513237                     1.292912     1.800540   \n",
            "542          -0.638893                    -0.544251    -0.680630   \n",
            "543           0.061580                    -0.084960     0.973483   \n",
            "544           0.061580                    -1.003542    -0.680630   \n",
            "545           2.513237                     3.130074    -0.680630   \n",
            "\n",
            "     Bland Chromatin  Normal Nucleoli   Mitoses  \n",
            "0          -0.972217        -0.594774 -0.339066  \n",
            "1           0.707626         0.083902  0.886960  \n",
            "2          -0.972217        -0.594774 -0.339066  \n",
            "3           0.287665        -0.594774  0.273947  \n",
            "4          -0.132295        -0.594774 -0.339066  \n",
            "..               ...              ...       ...  \n",
            "541         0.287665         1.780594 -0.339066  \n",
            "542        -0.552256         0.083902 -0.339066  \n",
            "543        -0.132295         0.083902  3.952024  \n",
            "544        -0.552256        -0.594774 -0.339066  \n",
            "545         1.967508         1.780594  3.952024  \n",
            "\n",
            "[546 rows x 9 columns]\n"
          ]
        }
      ]
    },
    {
      "cell_type": "code",
      "source": [
        "def sigmoid(z):\n",
        "    # Calcula la sigmoide de una entrada z\n",
        "    # convierte la intrada a un arreglo numpy\n",
        "    z = np.array(z)\n",
        "\n",
        "    g = np.zeros(z.shape)\n",
        "\n",
        "    g = 1 / (1 + np.exp(-z))\n",
        "\n",
        "    return g"
      ],
      "metadata": {
        "id": "oxBFbmxV74Do"
      },
      "execution_count": 77,
      "outputs": []
    },
    {
      "cell_type": "code",
      "source": [
        "#prueba de la implementacion de la Sigmoide\n",
        "z = 0\n",
        "g = sigmoid(z)\n",
        "print ('g(', z,') = ', g)"
      ],
      "metadata": {
        "colab": {
          "base_uri": "https://localhost:8080/"
        },
        "id": "1QhWkGW677qB",
        "outputId": "62068ffe-63b7-4531-ede2-e218f96647bd"
      },
      "execution_count": 78,
      "outputs": [
        {
          "output_type": "stream",
          "name": "stdout",
          "text": [
            "g( 0 ) =  0.5\n"
          ]
        }
      ]
    },
    {
      "cell_type": "code",
      "source": [
        "#Configuramos la matriz adecuadamente, y agregar una columnas de unos que corresponde al termino de intersepcion\n",
        "m, n = X.shape\n",
        "#Agrega el termino de Intercepcion a A\n",
        "X = np.concatenate([np.ones((m, 1)), X_norm], axis=1)\n",
        "print(X[5])"
      ],
      "metadata": {
        "colab": {
          "base_uri": "https://localhost:8080/"
        },
        "id": "PAEeEu-T8cf_",
        "outputId": "eac1632b-2c15-44b3-b13c-cce6648a429e"
      },
      "execution_count": 79,
      "outputs": [
        {
          "output_type": "stream",
          "name": "stdout",
          "text": [
            "[ 1.         -0.15064499 -0.6898418  -0.72955852 -0.63889328 -0.544251\n",
            " -0.68063032 -0.55225606 -0.59477431 -0.33906568]\n"
          ]
        }
      ]
    },
    {
      "cell_type": "code",
      "source": [
        "print(X)"
      ],
      "metadata": {
        "colab": {
          "base_uri": "https://localhost:8080/"
        },
        "id": "_YcX1_ln8nHe",
        "outputId": "dee89e81-1821-4f6d-a147-909d0270cfe0"
      },
      "execution_count": 80,
      "outputs": [
        {
          "output_type": "stream",
          "name": "stdout",
          "text": [
            "[[ 1.         -0.51298931 -0.6898418  ... -0.9722168  -0.59477431\n",
            "  -0.33906568]\n",
            " [ 1.          0.93638799  1.9303573  ...  0.70762615  0.08390233\n",
            "   0.8869599 ]\n",
            " [ 1.          0.21169934 -0.36231691 ... -0.9722168  -0.59477431\n",
            "  -0.33906568]\n",
            " ...\n",
            " [ 1.          2.02342097  0.62025775 ... -0.13229532  0.08390233\n",
            "   3.95202385]\n",
            " [ 1.         -0.15064499 -0.6898418  ... -0.55225606 -0.59477431\n",
            "  -0.33906568]\n",
            " [ 1.          2.02342097  2.25788219 ...  1.96750837  1.78059394\n",
            "   3.95202385]]\n"
          ]
        }
      ]
    },
    {
      "cell_type": "code",
      "source": [
        "def calcularCosto(theta, X, y):\n",
        "    # Inicializar algunos valores utiles\n",
        "    m = y.size  # numero de ejemplos de entrenamiento\n",
        "\n",
        "    J = 0\n",
        "    h = sigmoid(X.dot(theta.T))\n",
        "    J = (1 / m) * np.sum(-y.dot(np.log(h)) - (1 - y).dot(np.log(1 - h)))\n",
        "\n",
        "    return J"
      ],
      "metadata": {
        "id": "7izPYxSq8qwh"
      },
      "execution_count": 81,
      "outputs": []
    },
    {
      "cell_type": "code",
      "source": [
        "def descensoGradiente(theta, X, y, alpha, num_iters):\n",
        "    # Inicializa algunos valores\n",
        "    m = y.shape[0] # numero de ejemplos de entrenamiento\n",
        "\n",
        "    # realiza una copia de theta, el cual será acutalizada por el descenso por el gradiente\n",
        "    theta = theta.copy()\n",
        "    J_history = []\n",
        "\n",
        "    for i in range(num_iters):\n",
        "        h = sigmoid(X.dot(theta.T))\n",
        "        theta = theta - (alpha / m) * (h - y).dot(X)\n",
        "\n",
        "        J_history.append(calcularCosto(theta, X, y))\n",
        "    return theta, J_history"
      ],
      "metadata": {
        "id": "eGCx25SF81cB"
      },
      "execution_count": 82,
      "outputs": []
    },
    {
      "cell_type": "code",
      "source": [
        "#Carga de dataset\n",
        "data = pd.read_csv('/content/prueba.csv')\n",
        "print(data)"
      ],
      "metadata": {
        "colab": {
          "base_uri": "https://localhost:8080/"
        },
        "id": "eDKrdvv688OA",
        "outputId": "8ed4f8bc-69d9-4c79-84c6-4b84463d9ae9"
      },
      "execution_count": 84,
      "outputs": [
        {
          "output_type": "stream",
          "name": "stdout",
          "text": [
            "     Clump Thickness  Uniformity of Cell Size  Uniformity of Cell Shape  \\\n",
            "0                  8                        3                         4   \n",
            "1                  8                        8                         7   \n",
            "2                  1                        1                         1   \n",
            "3                  1                        1                         2   \n",
            "4                  1                        1                         1   \n",
            "..               ...                      ...                       ...   \n",
            "132               10                        3                         3   \n",
            "133                3                        5                         7   \n",
            "134                5                        5                         5   \n",
            "135                1                        1                         1   \n",
            "136                3                        1                         1   \n",
            "\n",
            "     Marginal Adhesion  Single Epithelial Cell Size  Bare Nuclei  \\\n",
            "0                    9                            3           10   \n",
            "1                    4                           10           10   \n",
            "2                    1                            2            1   \n",
            "3                    2                            2            1   \n",
            "4                    1                            1            1   \n",
            "..                 ...                          ...          ...   \n",
            "132                 10                            2           10   \n",
            "133                  8                            8            9   \n",
            "134                  8                           10            8   \n",
            "135                  1                            2            1   \n",
            "136                  1                            2            1   \n",
            "\n",
            "     Bland Chromatin  Normal Nucleoli  Mitoses  Class_binaria  \n",
            "0                  3                3        1              1  \n",
            "1                  7                8        7              1  \n",
            "2                  3                1        1              0  \n",
            "3                  3                1        1              0  \n",
            "4                  2                1        1              0  \n",
            "..               ...              ...      ...            ...  \n",
            "132                7                3        3              1  \n",
            "133                7               10        7              1  \n",
            "134                7                3        7              1  \n",
            "135                2                1        1              0  \n",
            "136                2                1        1              0  \n",
            "\n",
            "[137 rows x 10 columns]\n"
          ]
        }
      ]
    },
    {
      "cell_type": "code",
      "source": [
        "fila_deseada = 3\n",
        "\n",
        "if fila_deseada < len(data):\n",
        "  fila_completa = data.iloc[fila_deseada].to_numpy()\n",
        "  print(fila_completa)\n",
        "else:\n",
        "  print(\"La fila no existe\")"
      ],
      "metadata": {
        "colab": {
          "base_uri": "https://localhost:8080/"
        },
        "id": "cVpPCdIy9jRh",
        "outputId": "4a3462b0-6587-43ed-bbdc-a3f73be3763a"
      },
      "execution_count": 85,
      "outputs": [
        {
          "output_type": "stream",
          "name": "stdout",
          "text": [
            "[1 1 2 2 2 1 3 1 1 0]\n"
          ]
        }
      ]
    },
    {
      "cell_type": "code",
      "source": [
        "# Elegir algun valor para alpha (probar varias alternativas)\n",
        "alpha = 0.003\n",
        "num_iters = 12000\n",
        "\n",
        "# inicializa theta y ejecuta el descenso por el gradiente\n",
        "theta = np.zeros(10)\n",
        "theta, J_history = descensoGradiente(theta, X, y, alpha, num_iters)\n",
        "\n",
        "# Grafica la convergencia del costo\n",
        "pyplot.plot(np.arange(len(J_history)), J_history, lw=2)\n",
        "pyplot.xlabel('Numero de iteraciones')\n",
        "pyplot.ylabel('Costo J')\n",
        "\n",
        "# Muestra los resultados del descenso por el gradiente\n",
        "print('theta calculado por el descenso por el gradiente: {:s}'.format(str(theta)))\n",
        "\n",
        "# verificar si ingresa o no a la universidad\n",
        "X_array = [1, 1, 1, 2, 2, 2, 1, 3, 1, 1]\n",
        "tiene = sigmoid(np.dot(X_array, theta))   # Se debe cambiar esto\n",
        "\n",
        "print(f\"usando el descenso por el gradiente benigno o maligno :{tiene}\")"
      ],
      "metadata": {
        "colab": {
          "base_uri": "https://localhost:8080/",
          "height": 501
        },
        "id": "MH7f0zO69pSg",
        "outputId": "249e905b-6d07-4743-c134-2abc8b2c1831"
      },
      "execution_count": 96,
      "outputs": [
        {
          "output_type": "stream",
          "name": "stdout",
          "text": [
            "theta calculado por el descenso por el gradiente: [-0.97469092  0.76647296  0.65636729  0.72705939  0.64477974  0.35230582\n",
            "  0.99540704  0.73644235  0.51231907  0.47702454]\n",
            "usando el descenso por el gradiente benigno o maligno :0.9996936625568192\n"
          ]
        },
        {
          "output_type": "display_data",
          "data": {
            "text/plain": [
              "<Figure size 640x480 with 1 Axes>"
            ],
            "image/png": "[encoded data removed]"
          },
          "metadata": {}
        }
      ]
    },
    {
      "cell_type": "code",
      "source": [
        "def costFunction(theta, X, y):\n",
        "    # Inicializar algunos valores utiles\n",
        "    m = y.size  # numero de ejemplos de entrenamiento\n",
        "    epsilon = 1e-8\n",
        "    J = 0\n",
        "    grad = np.zeros(theta.shape)\n",
        "\n",
        "    h = sigmoid(X.dot(theta.T))\n",
        "\n",
        "    J = (1 / m) * np.sum(-y.dot(np.log(h)) - (1 - y).dot(np.log(1 - h+epsilon)))\n",
        "    grad = (1 / m) * (h - y).dot(X)\n",
        "\n",
        "    return J, grad"
      ],
      "metadata": {
        "id": "qF40Wd6aAKsK"
      },
      "execution_count": 97,
      "outputs": []
    },
    {
      "cell_type": "code",
      "source": [
        "# Inicializacion de parametros de ajuste\n",
        "initial_theta = np.zeros(n+1)\n",
        "print(initial_theta)\n",
        "cost, grad = costFunction(initial_theta, X, y)\n",
        "\n",
        "print('Costo en theta inicial (zeros): {:.3f}'.format(cost))\n",
        "print('Costo esperado (aproximado): 0.693\\n')\n",
        "print(grad)\n",
        "print('Gradiente en theta inicial (zeros):')\n",
        "print('\\t[{:.4f}, {:.4f}, {:.4f}]'.format(*grad))\n",
        "print('Gradiente esperado (aproximado):\\n\\t[-0.1000, -12.0092, -11.2628]\\n')"
      ],
      "metadata": {
        "colab": {
          "base_uri": "https://localhost:8080/"
        },
        "id": "AbYk0Cc9APFP",
        "outputId": "a903a80c-fe3e-47cf-ae67-53bd64722e28"
      },
      "execution_count": 98,
      "outputs": [
        {
          "output_type": "stream",
          "name": "stdout",
          "text": [
            "[0. 0. 0. 0. 0. 0. 0. 0. 0. 0.]\n",
            "Costo en theta inicial (zeros): 0.693\n",
            "Costo esperado (aproximado): 0.693\n",
            "\n",
            "[ 0.16849817 -0.33032336 -0.39097407 -0.39349403 -0.34050201 -0.32597718\n",
            " -0.39138038 -0.35995226 -0.33359117 -0.20308737]\n",
            "Gradiente en theta inicial (zeros):\n",
            "\t[0.1685, -0.3303, -0.3910]\n",
            "Gradiente esperado (aproximado):\n",
            "\t[-0.1000, -12.0092, -11.2628]\n",
            "\n"
          ]
        }
      ]
    },
    {
      "cell_type": "code",
      "source": [
        "# Establecer las opciones para optimize.minimize\n",
        "options= {'maxiter': 1000}\n",
        "\n",
        "# revisar la documentacion de scipy's optimize.minimize para mayor descripcion de los parametros\n",
        "# La funcion devuekve un objeto `OptimizeResult`\n",
        "# Se utiliza el algoritmo de Newton truncado para la optimización.\n",
        "res = optimize.minimize(costFunction,\n",
        "                        initial_theta,\n",
        "                        (X, y),\n",
        "                        jac=True,\n",
        "                        method='TNC',\n",
        "                        options=options)\n",
        "\n",
        "# la propiedad fun del objeto devuelto por `OptimizeResult`\n",
        "# contiene el valor del costFunction de un theta optimizado\n",
        "cost = res.fun\n",
        "\n",
        "# Theta optimizada esta en la propiedad x\n",
        "theta = res.x\n",
        "\n",
        "# Imprimir theta en la pantalla\n",
        "print('Costo con un valor de theta encontrado por optimize.minimize: {:.3f}'.format(cost))\n",
        "print('Costo esperado (aproximado): 0.203\\n');\n",
        "\n",
        "print('theta:')\n",
        "print('\\t[{:.3f}, {:.3f}, {:.3f}]'.format(*theta))\n",
        "print('Theta esperado (aproximado):\\n\\t[-25.161, 0.206, 0.201]')"
      ],
      "metadata": {
        "colab": {
          "base_uri": "https://localhost:8080/"
        },
        "id": "YqBixCaMAUT3",
        "outputId": "e19d4f74-bff1-42cd-bf84-62781e3fd3d6"
      },
      "execution_count": 99,
      "outputs": [
        {
          "output_type": "stream",
          "name": "stdout",
          "text": [
            "Costo con un valor de theta encontrado por optimize.minimize: 0.075\n",
            "Costo esperado (aproximado): 0.203\n",
            "\n",
            "theta:\n",
            "\t[-1.556, 1.274, -0.267]\n",
            "Theta esperado (aproximado):\n",
            "\t[-25.161, 0.206, 0.201]\n"
          ]
        },
        {
          "output_type": "stream",
          "name": "stderr",
          "text": [
            "<ipython-input-99-0dfcfa2e2ef1>:7: OptimizeWarning: Unknown solver options: maxiter\n",
            "  res = optimize.minimize(costFunction,\n"
          ]
        }
      ]
    },
    {
      "cell_type": "code",
      "source": [
        "# verificar si es maligno o benigno\n",
        "X_array = [1, 90, 70]\n",
        "theta_om = [-25.161, 0.206, 0.201]\n",
        "tiene = sigmoid(np.dot(X_array, theta_om))   # Se debe cambiar esto\n",
        "\n",
        "print(f\"usando el descenso por el gradiente benigno o maligno :{tiene}\")"
      ],
      "metadata": {
        "colab": {
          "base_uri": "https://localhost:8080/"
        },
        "id": "v0zt14MEAVr_",
        "outputId": "8a3a5c24-c76f-401b-e94e-bdbb8ef1fe01"
      },
      "execution_count": 100,
      "outputs": [
        {
          "output_type": "stream",
          "name": "stdout",
          "text": [
            "usando el descenso por el gradiente benigno o maligno :0.9994183152095036\n"
          ]
        }
      ]
    },
    {
      "cell_type": "code",
      "source": [
        "def plotDecisionBoundary(plotData, theta, X, y):\n",
        "    \"\"\"\n",
        "    Grafica los puntos X y Y en una nueva figura con un limite de desicion definido por theta.\n",
        "    the data points X and y into a new figure with the decision boundary defined by theta.\n",
        "    Grafica los puntos con * para los ejemplos positivos y con o para los ejemplos negativos.\n",
        "\n",
        "    Parametros:\n",
        "    ----------\n",
        "    plotData : func\n",
        "        A function reference for plotting the X, y data.\n",
        "\n",
        "    theta : array_like\n",
        "        Parametros para la regresion logistica. Un vecto de la forma (n+1, ).\n",
        "\n",
        "    X : array_like\n",
        "        Data set de entrada. Se supone que X es una de las siguientes:\n",
        "            1) Matriz Mx3, donde la primera columna es una columna de unos para intercepción.\n",
        "            2) Matriz MxN, N> 3, donde la primera columna son todos unos.\n",
        "\n",
        "    y : array_like\n",
        "        Vector de datos de etiquetas de la forma (m, ).\n",
        "    \"\"\"\n",
        "    # hacer que theta sera un arreglo numpy\n",
        "    theta = np.array(theta)\n",
        "\n",
        "    # Graficar los datos (recordar que la primera columna en X es la intercepción)\n",
        "    plotData(X[:, 1:9], y) #cambiar estos valores depende a las x que tengas\n",
        "\n",
        "    if X.shape[1] <= 9: #cambiar estos valores depende a las x que tengas\n",
        "        # Solo se requieren 2 puntos para definir una linea, para lo cual se eligen dos puntos finales\n",
        "        plot_x = np.array([np.min(X[:, 1]) - 2, np.max(X[:, 1]) + 2])\n",
        "\n",
        "        # Calcular la línea límite de decisión\n",
        "        plot_y = (-1. / theta[2]) * (theta[1] * plot_x + theta[0])\n",
        "\n",
        "        print(plot_x)\n",
        "        print(plot_y)\n",
        "        # Graficar y ajustar los ejes para una mejor visualización\n",
        "        pyplot.plot(plot_x, plot_y)\n",
        "\n",
        "        # Leyenda, especifica para el ejercicio\n",
        "        pyplot.legend(['Admitido', 'No admitido', 'Limite de decisión'])\n",
        "        pyplot.xlim([30, 100])\n",
        "        pyplot.ylim([30, 100])\n",
        "    else:\n",
        "        # Rango de la grilla\n",
        "        u = np.linspace(-1, 1.5, 50)\n",
        "        v = np.linspace(-1, 1.5, 50)\n",
        "\n",
        "        z = np.zeros((u.size, v.size))\n",
        "        # Evalua z = theta*x sobre la grilla\n",
        "        for i, ui in enumerate(u):\n",
        "            for j, vj in enumerate(v):\n",
        "                z[i, j] = np.dot(mapFeature(ui, vj), theta)\n",
        "\n",
        "        z = z.T  # importante transponer z antes de llamar al contorno\n",
        "        # print(z)\n",
        "\n",
        "        # Plot z = 0\n",
        "        pyplot.contour(u, v, z, levels=[0], linewidths=2, colors='g')\n",
        "        pyplot.contourf(u, v, z, levels=[np.min(z), 0, np.max(z)], cmap='Greens', alpha=0.4)"
      ],
      "metadata": {
        "id": "DXYWRnlgA5Xg"
      },
      "execution_count": 106,
      "outputs": []
    },
    {
      "cell_type": "code",
      "source": [
        "def predict(theta, X):\n",
        "    \"\"\"\n",
        "    Predecir si la etiqueta es 0 o 1 mediante regresión logística aprendida.\n",
        "    Calcula las predicciones para X usando un umbral en 0.5 (es decir, si sigmoide (theta.T * x)> = 0.5, predice 1)\n",
        "\n",
        "    Parametros\n",
        "    ----------\n",
        "    theta : array_like\n",
        "        Parametros para regresion logistica. Un vecto de la forma (n+1, ).\n",
        "\n",
        "    X : array_like\n",
        "        Datos utilizados para el calculo de las predicciones.\n",
        "        La fila es el numero de los puntos para calcular las predicciones,\n",
        "        y las columnas con el numero de caracteristicas.\n",
        "\n",
        "    Devuelve\n",
        "    -------\n",
        "    p : array_like\n",
        "        Predicciones y 0 o 1 para cada fila en X.\n",
        "    \"\"\"\n",
        "    m = X.shape[0] # Numero de ejemplo de entrenamiento\n",
        "\n",
        "    p = np.zeros(m)\n",
        "\n",
        "    p = np.round(sigmoid(X.dot(theta.T)))\n",
        "    return p"
      ],
      "metadata": {
        "id": "1PhcNScYA-XQ"
      },
      "execution_count": 107,
      "outputs": []
    },
    {
      "cell_type": "code",
      "source": [
        "#  Predice la probabilidad de ingreso para un estudiante con nota de 45 en el examen 1 y nota de 85 en el examen 2\n",
        "prob = sigmoid(np.dot([1, 0.0e+00, 1.0e+00, 7.0e+04, 2.0e+00, 4.0e+00, 4.0e+00, 0.0e+00, 2.0e+00, 4.9e+01], theta))\n",
        "print('Para un estudiante con notas de 45 y 85, se predice una probabilidad de admisión de: {:.3f}%'.format(prob))\n",
        "print('Valor esperado: 0.775 +/- 0.002\\n')\n",
        "\n",
        "# Compute accuracy on our training set\n",
        "p = predict(theta, X)\n",
        "print('Precisión de entrenamiento: {:.2f} %'.format(np.mean(p == y) * 100))\n",
        "print('Precisión esperada (aproximadamente): 89.00 %')"
      ],
      "metadata": {
        "colab": {
          "base_uri": "https://localhost:8080/"
        },
        "id": "YMFSHqauBAi9",
        "outputId": "1ef803cb-655f-46bf-f5d1-c88484b1b3fa"
      },
      "execution_count": 108,
      "outputs": [
        {
          "output_type": "stream",
          "name": "stdout",
          "text": [
            "Para un estudiante con notas de 45 y 85, se predice una probabilidad de admisión de: 1.000%\n",
            "Valor esperado: 0.775 +/- 0.002\n",
            "\n",
            "Precisión de entrenamiento: 97.07 %\n",
            "Precisión esperada (aproximadamente): 89.00 %\n"
          ]
        }
      ]
    }
  ]
}